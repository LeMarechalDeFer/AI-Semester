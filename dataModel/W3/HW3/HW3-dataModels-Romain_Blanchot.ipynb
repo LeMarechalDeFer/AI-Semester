{
 "cells": [
  {
   "cell_type": "markdown",
   "metadata": {},
   "source": [
    "# Homework 3: Data Preparation\n",
    "\n",
    "#### CPE232 Data Models\n",
    "\n",
    "---\n"
   ]
  },
  {
   "cell_type": "markdown",
   "metadata": {},
   "source": [
    "## Project setup\n"
   ]
  },
  {
   "cell_type": "code",
   "execution_count": 16,
   "metadata": {},
   "outputs": [],
   "source": [
    "# !pip install matplotlib"
   ]
  },
  {
   "cell_type": "code",
   "execution_count": 17,
   "metadata": {},
   "outputs": [],
   "source": [
    "import pandas as pd\n",
    "\n",
    "df = pd.read_csv('bike_sharing_demand.csv')"
   ]
  },
  {
   "cell_type": "code",
   "execution_count": 18,
   "metadata": {},
   "outputs": [
    {
     "data": {
      "text/html": [
       "<div>\n",
       "<style scoped>\n",
       "    .dataframe tbody tr th:only-of-type {\n",
       "        vertical-align: middle;\n",
       "    }\n",
       "\n",
       "    .dataframe tbody tr th {\n",
       "        vertical-align: top;\n",
       "    }\n",
       "\n",
       "    .dataframe thead th {\n",
       "        text-align: right;\n",
       "    }\n",
       "</style>\n",
       "<table border=\"1\" class=\"dataframe\">\n",
       "  <thead>\n",
       "    <tr style=\"text-align: right;\">\n",
       "      <th></th>\n",
       "      <th>season</th>\n",
       "      <th>year</th>\n",
       "      <th>month</th>\n",
       "      <th>hour</th>\n",
       "      <th>holiday</th>\n",
       "      <th>weekday</th>\n",
       "      <th>workingday</th>\n",
       "      <th>weather</th>\n",
       "      <th>temp</th>\n",
       "      <th>feel_temp</th>\n",
       "      <th>humidity</th>\n",
       "      <th>windspeed</th>\n",
       "      <th>count</th>\n",
       "    </tr>\n",
       "  </thead>\n",
       "  <tbody>\n",
       "    <tr>\n",
       "      <th>0</th>\n",
       "      <td>spring</td>\n",
       "      <td>0</td>\n",
       "      <td>1</td>\n",
       "      <td>0</td>\n",
       "      <td>False</td>\n",
       "      <td>6</td>\n",
       "      <td>False</td>\n",
       "      <td>clear</td>\n",
       "      <td>9.84</td>\n",
       "      <td>14.395</td>\n",
       "      <td>0.81</td>\n",
       "      <td>0.0</td>\n",
       "      <td>16</td>\n",
       "    </tr>\n",
       "    <tr>\n",
       "      <th>1</th>\n",
       "      <td>spring</td>\n",
       "      <td>0</td>\n",
       "      <td>1</td>\n",
       "      <td>1</td>\n",
       "      <td>False</td>\n",
       "      <td>6</td>\n",
       "      <td>False</td>\n",
       "      <td>clear</td>\n",
       "      <td>9.02</td>\n",
       "      <td>13.635</td>\n",
       "      <td>NaN</td>\n",
       "      <td>0.0</td>\n",
       "      <td>40</td>\n",
       "    </tr>\n",
       "    <tr>\n",
       "      <th>2</th>\n",
       "      <td>spring</td>\n",
       "      <td>0</td>\n",
       "      <td>1</td>\n",
       "      <td>2</td>\n",
       "      <td>False</td>\n",
       "      <td>6</td>\n",
       "      <td>False</td>\n",
       "      <td>clear</td>\n",
       "      <td>9.02</td>\n",
       "      <td>13.635</td>\n",
       "      <td>0.80</td>\n",
       "      <td>0.0</td>\n",
       "      <td>32</td>\n",
       "    </tr>\n",
       "    <tr>\n",
       "      <th>3</th>\n",
       "      <td>spring</td>\n",
       "      <td>0</td>\n",
       "      <td>1</td>\n",
       "      <td>3</td>\n",
       "      <td>False</td>\n",
       "      <td>6</td>\n",
       "      <td>False</td>\n",
       "      <td>clear</td>\n",
       "      <td>9.84</td>\n",
       "      <td>14.395</td>\n",
       "      <td>0.75</td>\n",
       "      <td>0.0</td>\n",
       "      <td>13</td>\n",
       "    </tr>\n",
       "    <tr>\n",
       "      <th>4</th>\n",
       "      <td>spring</td>\n",
       "      <td>0</td>\n",
       "      <td>1</td>\n",
       "      <td>4</td>\n",
       "      <td>False</td>\n",
       "      <td>6</td>\n",
       "      <td>False</td>\n",
       "      <td>clear</td>\n",
       "      <td>9.84</td>\n",
       "      <td>14.395</td>\n",
       "      <td>0.75</td>\n",
       "      <td>0.0</td>\n",
       "      <td>1</td>\n",
       "    </tr>\n",
       "  </tbody>\n",
       "</table>\n",
       "</div>"
      ],
      "text/plain": [
       "   season  year  month  hour  holiday  weekday  workingday weather  temp  \\\n",
       "0  spring     0      1     0    False        6       False   clear  9.84   \n",
       "1  spring     0      1     1    False        6       False   clear  9.02   \n",
       "2  spring     0      1     2    False        6       False   clear  9.02   \n",
       "3  spring     0      1     3    False        6       False   clear  9.84   \n",
       "4  spring     0      1     4    False        6       False   clear  9.84   \n",
       "\n",
       "   feel_temp  humidity  windspeed  count  \n",
       "0     14.395      0.81        0.0     16  \n",
       "1     13.635       NaN        0.0     40  \n",
       "2     13.635      0.80        0.0     32  \n",
       "3     14.395      0.75        0.0     13  \n",
       "4     14.395      0.75        0.0      1  "
      ]
     },
     "execution_count": 18,
     "metadata": {},
     "output_type": "execute_result"
    }
   ],
   "source": [
    "df.head()"
   ]
  },
  {
   "cell_type": "code",
   "execution_count": 19,
   "metadata": {},
   "outputs": [],
   "source": [
    "url = \"https://kmutt.me/\""
   ]
  },
  {
   "cell_type": "markdown",
   "metadata": {},
   "source": [
    "## 🔎 The Secret URL Challenge!\n",
    "\n",
    "Welcome, brave explorer! Your mission, should you choose to accept it, is to uncover a hidden phrase scattered across the questions below. Each question holds a vital clue—a word or phrase—that will bring you closer to unlocking the **Secret URL**!\n",
    "\n",
    "🕵️‍♂️ Once you have gathered all the hidden words, combine them **in order** and attach them to this URL:  \n",
    "🔗 `https://kmutt.me/[your_combined_phrase]`\n",
    "\n",
    "For example, if you discover the words `['quest', 'begin']`, your final URL will be:  \n",
    "✨ `https://kmutt.me/questbegin` ✨\n",
    "\n",
    "Are you ready to solve the mystery and reveal the secret link? Let the adventure begin! 🚀🔐\n"
   ]
  },
  {
   "cell_type": "code",
   "execution_count": 20,
   "metadata": {},
   "outputs": [
    {
     "data": {
      "text/html": [
       "<div>\n",
       "<style scoped>\n",
       "    .dataframe tbody tr th:only-of-type {\n",
       "        vertical-align: middle;\n",
       "    }\n",
       "\n",
       "    .dataframe tbody tr th {\n",
       "        vertical-align: top;\n",
       "    }\n",
       "\n",
       "    .dataframe thead th {\n",
       "        text-align: right;\n",
       "    }\n",
       "</style>\n",
       "<table border=\"1\" class=\"dataframe\">\n",
       "  <thead>\n",
       "    <tr style=\"text-align: right;\">\n",
       "      <th></th>\n",
       "      <th>year</th>\n",
       "      <th>month</th>\n",
       "      <th>hour</th>\n",
       "      <th>weekday</th>\n",
       "      <th>temp</th>\n",
       "      <th>feel_temp</th>\n",
       "      <th>humidity</th>\n",
       "      <th>windspeed</th>\n",
       "      <th>count</th>\n",
       "    </tr>\n",
       "  </thead>\n",
       "  <tbody>\n",
       "    <tr>\n",
       "      <th>count</th>\n",
       "      <td>200.0</td>\n",
       "      <td>200.0</td>\n",
       "      <td>200.000000</td>\n",
       "      <td>200.000000</td>\n",
       "      <td>200.000000</td>\n",
       "      <td>200.000000</td>\n",
       "      <td>170.000000</td>\n",
       "      <td>200.000000</td>\n",
       "      <td>200.000000</td>\n",
       "    </tr>\n",
       "    <tr>\n",
       "      <th>mean</th>\n",
       "      <td>0.0</td>\n",
       "      <td>1.0</td>\n",
       "      <td>11.455000</td>\n",
       "      <td>3.160000</td>\n",
       "      <td>9.389000</td>\n",
       "      <td>11.689600</td>\n",
       "      <td>0.559059</td>\n",
       "      <td>13.745452</td>\n",
       "      <td>53.950000</td>\n",
       "    </tr>\n",
       "    <tr>\n",
       "      <th>std</th>\n",
       "      <td>0.0</td>\n",
       "      <td>0.0</td>\n",
       "      <td>6.832377</td>\n",
       "      <td>2.235933</td>\n",
       "      <td>3.713618</td>\n",
       "      <td>4.580663</td>\n",
       "      <td>0.176368</td>\n",
       "      <td>8.637962</td>\n",
       "      <td>48.931472</td>\n",
       "    </tr>\n",
       "    <tr>\n",
       "      <th>min</th>\n",
       "      <td>0.0</td>\n",
       "      <td>1.0</td>\n",
       "      <td>0.000000</td>\n",
       "      <td>0.000000</td>\n",
       "      <td>3.280000</td>\n",
       "      <td>3.030000</td>\n",
       "      <td>0.280000</td>\n",
       "      <td>0.000000</td>\n",
       "      <td>1.000000</td>\n",
       "    </tr>\n",
       "    <tr>\n",
       "      <th>25%</th>\n",
       "      <td>0.0</td>\n",
       "      <td>1.0</td>\n",
       "      <td>6.000000</td>\n",
       "      <td>1.000000</td>\n",
       "      <td>6.560000</td>\n",
       "      <td>9.090000</td>\n",
       "      <td>0.422500</td>\n",
       "      <td>7.001500</td>\n",
       "      <td>12.000000</td>\n",
       "    </tr>\n",
       "    <tr>\n",
       "      <th>50%</th>\n",
       "      <td>0.0</td>\n",
       "      <td>1.0</td>\n",
       "      <td>11.000000</td>\n",
       "      <td>3.000000</td>\n",
       "      <td>8.200000</td>\n",
       "      <td>10.985000</td>\n",
       "      <td>0.510000</td>\n",
       "      <td>12.998000</td>\n",
       "      <td>47.000000</td>\n",
       "    </tr>\n",
       "    <tr>\n",
       "      <th>75%</th>\n",
       "      <td>0.0</td>\n",
       "      <td>1.0</td>\n",
       "      <td>17.000000</td>\n",
       "      <td>5.000000</td>\n",
       "      <td>10.660000</td>\n",
       "      <td>13.635000</td>\n",
       "      <td>0.690000</td>\n",
       "      <td>19.250775</td>\n",
       "      <td>76.000000</td>\n",
       "    </tr>\n",
       "    <tr>\n",
       "      <th>max</th>\n",
       "      <td>0.0</td>\n",
       "      <td>1.0</td>\n",
       "      <td>23.000000</td>\n",
       "      <td>6.000000</td>\n",
       "      <td>18.860000</td>\n",
       "      <td>22.725000</td>\n",
       "      <td>1.000000</td>\n",
       "      <td>36.997400</td>\n",
       "      <td>219.000000</td>\n",
       "    </tr>\n",
       "  </tbody>\n",
       "</table>\n",
       "</div>"
      ],
      "text/plain": [
       "        year  month        hour     weekday        temp   feel_temp  \\\n",
       "count  200.0  200.0  200.000000  200.000000  200.000000  200.000000   \n",
       "mean     0.0    1.0   11.455000    3.160000    9.389000   11.689600   \n",
       "std      0.0    0.0    6.832377    2.235933    3.713618    4.580663   \n",
       "min      0.0    1.0    0.000000    0.000000    3.280000    3.030000   \n",
       "25%      0.0    1.0    6.000000    1.000000    6.560000    9.090000   \n",
       "50%      0.0    1.0   11.000000    3.000000    8.200000   10.985000   \n",
       "75%      0.0    1.0   17.000000    5.000000   10.660000   13.635000   \n",
       "max      0.0    1.0   23.000000    6.000000   18.860000   22.725000   \n",
       "\n",
       "         humidity   windspeed       count  \n",
       "count  170.000000  200.000000  200.000000  \n",
       "mean     0.559059   13.745452   53.950000  \n",
       "std      0.176368    8.637962   48.931472  \n",
       "min      0.280000    0.000000    1.000000  \n",
       "25%      0.422500    7.001500   12.000000  \n",
       "50%      0.510000   12.998000   47.000000  \n",
       "75%      0.690000   19.250775   76.000000  \n",
       "max      1.000000   36.997400  219.000000  "
      ]
     },
     "execution_count": 20,
     "metadata": {},
     "output_type": "execute_result"
    }
   ],
   "source": [
    "df.describe()"
   ]
  },
  {
   "cell_type": "markdown",
   "metadata": {},
   "source": [
    "### Clue 1: 📜 A Note from the Keeper of the Winds 🌫️💨\n",
    "\n",
    "\"Traveler, the first clue hides in the mist! To uncover it, follow these steps carefully:\"\n",
    "\\\n",
    "\n",
    "1. Find the moment when the wind was strongest during misty weather. \\\n",
    "2. Look at that row and gather the numbers hidden in the hour and count columns. \\\n",
    "3. Add 65 to each number and turn them into letters. but divide count by 3. \\\n",
    "4. Arrange them in the order given by hour and count to reveal the hidden phrase! \\\n",
    "\n",
    "\"Solve this mystery, and you will take the first step toward unlocking the secret URL!\" 🔐✨\n",
    "\n",
    "🐵 Monkey Mode Activated! 🍌\n",
    "\n",
    "1. Ooo ooo! Find rows where weather is ‘mist’! 🌫️🐒 \\\n",
    "2. Pick the row with the BIGGEST windspeed! 💨💨 \\\n",
    "3. Grab hour and count columns and divide count by 3! 🕒🔢 \\\n",
    "4. Add 65 to each number! ➕6️⃣5️⃣ \\\n",
    "5. Turn those numbers into LETTERS! 🔠🐵 \\\n",
    "\n",
    "✨ Ooo OOO! Secret phrase unlocked! 🚀🔑\n"
   ]
  },
  {
   "cell_type": "code",
   "execution_count": 21,
   "metadata": {},
   "outputs": [
    {
     "name": "stdout",
     "output_type": "stream",
     "text": [
      "Valeurs uniques dans weather: ['clear' 'misty' 'rain']\n",
      "Nombre de lignes trouvées: 1\n",
      "your current url is:  https://kmutt.me/LU\n"
     ]
    }
   ],
   "source": [
    "print(\"Valeurs uniques dans weather:\", df[\"weather\"].unique())\n",
    "\n",
    "\n",
    "max_wind_speed_in_misty_weather = df[df[\"weather\"] == \"misty\"][\"windspeed\"].max()\n",
    "target_row = df[(df[\"weather\"] == \"misty\") & (df[\"windspeed\"] == max_wind_speed_in_misty_weather)]\n",
    "\n",
    "print(\"Nombre de lignes trouvées:\", len(target_row))\n",
    "\n",
    "# get the hour and count of the target row\n",
    "hour, count = target_row[\"hour\"].values[0] + 65, target_row[\"count\"].values[0]//3 + 65\n",
    "\n",
    "# just change the hour and count to the corresponding ascii character\n",
    "result = str(chr(hour)) + str(chr(count))\n",
    "\n",
    "# concatenate the result to the url\n",
    "url = url + result\n",
    "print(\"your current url is: \", url)"
   ]
  },
  {
   "cell_type": "markdown",
   "metadata": {},
   "source": [
    "### 🔍 Clue 2: The Hidden Words in the Weather 🌦️\n",
    "\n",
    "The next piece of the puzzle lies in the unique weathers that were observed! To find the clue:\n",
    "\n",
    "1. Look at all the different weather conditions recorded in the dataset.\n",
    "2. Take the last two word of each unique weather type you find.\n",
    "3. The combination of these words will lead you to the next step in your adventure!\n",
    "4. ✨ Unravel this mystery, and you'll be one step closer to the secret URL! 🚀🔐\n",
    "\n",
    "Monkey Mode 🐵🍌\n",
    "\n",
    "1. Ooo ooo! Find all the different weather types! 🌦️\n",
    "2. Get the LAST TWO word of each one! 🦁🐒\n",
    "3. Combine the words to move closer to the secret! 🔐✨\n",
    "\n",
    "🍌 Monkey magic will lead you to the next clue! 🐵\n"
   ]
  },
  {
   "cell_type": "code",
   "execution_count": 23,
   "metadata": {},
   "outputs": [
    {
     "name": "stdout",
     "output_type": "stream",
     "text": [
      "your current url is:  https://kmutt.me/LUartyin\n"
     ]
    }
   ],
   "source": [
    "# get the unique values of the target column\n",
    "unique_values = df[\"weather\"].unique()\n",
    "\n",
    "# get the last two characters of each unique value\n",
    "last_two_character = [value[-2:] for value in unique_values]\n",
    "\n",
    "# join all the last two characters\n",
    "result = ''.join(last_two_character)\n",
    "\n",
    "# concatenate the result to the url\n",
    "url = url + result\n",
    "\n",
    "print(\"your current url is: \", url)"
   ]
  },
  {
   "cell_type": "markdown",
   "metadata": {},
   "source": [
    "## Clue 3: The missing Humidity 🌡️\n",
    "\n",
    "Someone tried to hide a secret message in the humidity levels! you need to see this!!\n"
   ]
  },
  {
   "cell_type": "code",
   "execution_count": 24,
   "metadata": {},
   "outputs": [
    {
     "data": {
      "text/plain": [
       "<Axes: >"
      ]
     },
     "execution_count": 24,
     "metadata": {},
     "output_type": "execute_result"
    },
    {
     "data": {
      "image/png": "[encoded data removed]",
      "text/plain": [
       "<Figure size 640x480 with 1 Axes>"
      ]
     },
     "metadata": {},
     "output_type": "display_data"
    }
   ],
   "source": [
    "df[\"humidity\"].plot()"
   ]
  },
  {
   "cell_type": "code",
   "execution_count": 25,
   "metadata": {},
   "outputs": [
    {
     "data": {
      "text/plain": [
       "np.float64(0.5590588235294117)"
      ]
     },
     "execution_count": 25,
     "metadata": {},
     "output_type": "execute_result"
    }
   ],
   "source": [
    "df[\"humidity\"].mean()"
   ]
  },
  {
   "cell_type": "markdown",
   "metadata": {},
   "source": [
    "Missing value in the `humidity` column make their average weird. \\\n",
    "Find the missing numbers and combine them to reveal the next part of the secret URL!\n",
    "\n",
    "Monkey Mode 🐵🍌\n",
    "\n",
    "1. Ooo ooo! Find the missing numbers in the humidity column! 🌡️🐒\n",
    "2. Combine the missing numbers to reveal the next part of the secret URL! 🔐✨\n",
    "\n",
    "🍌 This is too easy for us. You too you also can do it!🐒🐒🐵\n"
   ]
  },
  {
   "cell_type": "code",
   "execution_count": 26,
   "metadata": {},
   "outputs": [
    {
     "name": "stdout",
     "output_type": "stream",
     "text": [
      "your current url is:  https://kmutt.me/LUartyin30\n"
     ]
    }
   ],
   "source": [
    "missing_values = df['humidity'].isna().sum()\n",
    "\n",
    "url = url + str(missing_values)\n",
    "\n",
    "print(\"your current url is: \", url)"
   ]
  },
  {
   "cell_type": "markdown",
   "metadata": {},
   "source": [
    "### Clue 4: Make the Hum(idity)an back!\n",
    "\n",
    "Yes! we got a number of missing humidity from the previous clue. Now, we need to make it back to the original data. This is too hard? [Don't worry about it](https://www.google.com/url?sa=i&url=https%3A%2F%2Fwww.linkedin.com%2Fposts%2Favipathak99_coursera-genai-llm-activity-7087786100156448771-kQf7&psig=AOvVaw0EUk8ShOVQE_RbwPwe8Acj&ust=1738776320023000&source=images&cd=vfe&opi=89978449&ved=0CBQQjRxqFwoTCIDN9t7EqosDFQAAAAAdAAAAABAE) you can do it without my help.\n"
   ]
  },
  {
   "cell_type": "code",
   "execution_count": 27,
   "metadata": {},
   "outputs": [],
   "source": [
    "for i in range(len(df['humidity'])):\n",
    "    \n",
    "\n",
    "    if pd.isnull(df['humidity'][i]):\n",
    "        \n",
    "        prev_val = df['humidity'][:i].dropna().iloc[-1] if i > 0 else None\n",
    "        \n",
    "        next_val = df['humidity'][i+1:].dropna().iloc[0] if i < len(df)-1 else None\n",
    "        \n",
    "       \n",
    "        if prev_val is not None and next_val is not None:\n",
    "            df.loc[i,'humidity'] = (prev_val + next_val) / 2\n",
    "        elif prev_val is not None:\n",
    "            df.loc[i,'humidity'] = prev_val\n",
    "        elif next_val is not None:\n",
    "            df.loc[i,'humidity'] = next_val\n"
   ]
  },
  {
   "cell_type": "code",
   "execution_count": 28,
   "metadata": {},
   "outputs": [
    {
     "data": {
      "text/plain": [
       "<Axes: >"
      ]
     },
     "execution_count": 28,
     "metadata": {},
     "output_type": "execute_result"
    },
    {
     "data": {
      "image/png": "[encoded data removed]",
      "text/plain": [
       "<Figure size 640x480 with 1 Axes>"
      ]
     },
     "metadata": {},
     "output_type": "display_data"
    }
   ],
   "source": [
    "df[\"humidity\"].plot()"
   ]
  },
  {
   "cell_type": "markdown",
   "metadata": {},
   "source": [
    "now, find the average of the humidity column and add it to the missing value. Then, you will find the next part of the secret URL!\n"
   ]
  },
  {
   "cell_type": "code",
   "execution_count": 29,
   "metadata": {},
   "outputs": [
    {
     "data": {
      "text/plain": [
       "np.float64(0.5575249999999999)"
      ]
     },
     "execution_count": 29,
     "metadata": {},
     "output_type": "execute_result"
    }
   ],
   "source": [
    "average_humidity = df['humidity'].mean()\n",
    "\n",
    "average_humidity"
   ]
  },
  {
   "cell_type": "markdown",
   "metadata": {},
   "source": [
    "oh, I forgot to tell you. We only use first 3 decimal places of the average value.\n"
   ]
  },
  {
   "cell_type": "code",
   "execution_count": 30,
   "metadata": {},
   "outputs": [
    {
     "name": "stdout",
     "output_type": "stream",
     "text": [
      "your current url is:  https://kmutt.me/LUartyin30557\n"
     ]
    }
   ],
   "source": [
    "# get first 3 decimal of the average humidity\n",
    "result = str(int(average_humidity*1000))\n",
    "\n",
    "# concatenate the result to the url\n",
    "url = url + result\n",
    "\n",
    "print(\"your current url is: \", url)"
   ]
  },
  {
   "cell_type": "markdown",
   "metadata": {},
   "source": [
    "### Clue 5: The Secret Message from the different weathers 🌦️\n",
    "\n",
    "We almost there! Find an average of each weather type in the dataset. Then use the ascii number of the sum between `clear` weather and difference of `misty` and `rain` weather to reveal the next part of the secret URL!\n",
    "\n",
    "Monkey Mode 🐵🍌\n",
    "\n",
    "1. Find the average of each weather type! 🌦️🐒\n",
    "2. Use the ASCII number of the sum between `clear` weather and difference of `misty` and `rain` weather! 🔢🔠\n",
    "3. Combine the numbers to reveal the next part of the secret URL! 🔐✨\n",
    "\n",
    "🍌 You're almost there! Keep going! 🚀🐒🐒\n"
   ]
  },
  {
   "cell_type": "code",
   "execution_count": 31,
   "metadata": {},
   "outputs": [
    {
     "name": "stdout",
     "output_type": "stream",
     "text": [
      "your current url is:  https://kmutt.me/LUartyin30557L\n"
     ]
    }
   ],
   "source": [
    "average_count = df.groupby('weather')['count'].mean()\n",
    "\n",
    "clear_avg = average_count['clear']\n",
    "misty_avg = average_count['misty'] \n",
    "rain_avg = average_count['rain']\n",
    "\n",
    "groupby_character = chr(int(clear_avg + (misty_avg - rain_avg)))\n",
    "\n",
    "url = url + groupby_character\n",
    "\n",
    "print(\"your current url is: \", url)"
   ]
  },
  {
   "cell_type": "code",
   "execution_count": 32,
   "metadata": {},
   "outputs": [
    {
     "name": "stdout",
     "output_type": "stream",
     "text": [
      "your final url is:  https://kmutt.me/LUartyin30557L\n"
     ]
    }
   ],
   "source": [
    "print(\"your final url is: \", url)"
   ]
  },
  {
   "cell_type": "markdown",
   "metadata": {},
   "source": [
    "### Clue 6: Fusion! 🌌\n",
    "\n",
    "You've made it this far! Now, You just need to combine the dataframe and and get the standard deviation of `Number of employees` column. then put it in `decode` tools to reveal the final part of the secret URL!\n",
    "\n",
    "Monkey Mode 🐵🍌\n",
    "\n",
    "1. Combine the dataframe and get the standard deviation of `Number of employees` column! 🌌🐒\n",
    "2. Use the standard deviation as a phrase to unlock the final part of the secret URL! 🔐✨\n",
    "3. Put the phrase in the `decode` tools to reveal the final part of the secret URL! 🚀🔑\n",
    "\n",
    "🍌 Don't be afraid.We will stay with you! 🙊🙉🙊🙉\n"
   ]
  },
  {
   "cell_type": "code",
   "execution_count": 33,
   "metadata": {},
   "outputs": [],
   "source": [
    "organizations_1 = pd.read_csv('organizations-1.csv')\n",
    "organizations_2 = pd.read_csv('organizations-2.csv')\n",
    "organizations_3 = pd.read_csv('organizations-3.csv')"
   ]
  },
  {
   "cell_type": "code",
   "execution_count": 34,
   "metadata": {},
   "outputs": [
    {
     "data": {
      "text/html": [
       "<div>\n",
       "<style scoped>\n",
       "    .dataframe tbody tr th:only-of-type {\n",
       "        vertical-align: middle;\n",
       "    }\n",
       "\n",
       "    .dataframe tbody tr th {\n",
       "        vertical-align: top;\n",
       "    }\n",
       "\n",
       "    .dataframe thead th {\n",
       "        text-align: right;\n",
       "    }\n",
       "</style>\n",
       "<table border=\"1\" class=\"dataframe\">\n",
       "  <thead>\n",
       "    <tr style=\"text-align: right;\">\n",
       "      <th></th>\n",
       "      <th>Index</th>\n",
       "      <th>Organization Id</th>\n",
       "      <th>Name</th>\n",
       "      <th>Website</th>\n",
       "      <th>Country</th>\n",
       "      <th>Description</th>\n",
       "      <th>Founded</th>\n",
       "      <th>Industry</th>\n",
       "      <th>Number of employees</th>\n",
       "    </tr>\n",
       "  </thead>\n",
       "  <tbody>\n",
       "    <tr>\n",
       "      <th>0</th>\n",
       "      <td>1</td>\n",
       "      <td>FAB0d41d5b5d22c</td>\n",
       "      <td>Ferrell LLC</td>\n",
       "      <td>https://price.net/</td>\n",
       "      <td>Papua New Guinea</td>\n",
       "      <td>Horizontal empowering knowledgebase</td>\n",
       "      <td>1990</td>\n",
       "      <td>Plastics</td>\n",
       "      <td>3498</td>\n",
       "    </tr>\n",
       "    <tr>\n",
       "      <th>1</th>\n",
       "      <td>2</td>\n",
       "      <td>6A7EdDEA9FaDC52</td>\n",
       "      <td>Mckinney, Riley and Day</td>\n",
       "      <td>http://www.hall-buchanan.info/</td>\n",
       "      <td>Finland</td>\n",
       "      <td>User-centric system-worthy leverage</td>\n",
       "      <td>2015</td>\n",
       "      <td>Glass / Ceramics / Concrete</td>\n",
       "      <td>4952</td>\n",
       "    </tr>\n",
       "    <tr>\n",
       "      <th>2</th>\n",
       "      <td>3</td>\n",
       "      <td>0bFED1ADAE4bcC1</td>\n",
       "      <td>Hester Ltd</td>\n",
       "      <td>http://sullivan-reed.com/</td>\n",
       "      <td>China</td>\n",
       "      <td>Switchable scalable moratorium</td>\n",
       "      <td>1971</td>\n",
       "      <td>Public Safety</td>\n",
       "      <td>5287</td>\n",
       "    </tr>\n",
       "    <tr>\n",
       "      <th>3</th>\n",
       "      <td>4</td>\n",
       "      <td>2bFC1Be8a4ce42f</td>\n",
       "      <td>Holder-Sellers</td>\n",
       "      <td>https://becker.com/</td>\n",
       "      <td>Turkmenistan</td>\n",
       "      <td>De-engineered systemic artificial intelligence</td>\n",
       "      <td>2004</td>\n",
       "      <td>Automotive</td>\n",
       "      <td>921</td>\n",
       "    </tr>\n",
       "    <tr>\n",
       "      <th>4</th>\n",
       "      <td>5</td>\n",
       "      <td>9eE8A6a4Eb96C24</td>\n",
       "      <td>Mayer Group</td>\n",
       "      <td>http://www.brewer.com/</td>\n",
       "      <td>Mauritius</td>\n",
       "      <td>Synchronized needs-based challenge</td>\n",
       "      <td>1991</td>\n",
       "      <td>Transportation</td>\n",
       "      <td>7870</td>\n",
       "    </tr>\n",
       "  </tbody>\n",
       "</table>\n",
       "</div>"
      ],
      "text/plain": [
       "   Index  Organization Id                     Name  \\\n",
       "0      1  FAB0d41d5b5d22c              Ferrell LLC   \n",
       "1      2  6A7EdDEA9FaDC52  Mckinney, Riley and Day   \n",
       "2      3  0bFED1ADAE4bcC1               Hester Ltd   \n",
       "3      4  2bFC1Be8a4ce42f           Holder-Sellers   \n",
       "4      5  9eE8A6a4Eb96C24              Mayer Group   \n",
       "\n",
       "                          Website           Country  \\\n",
       "0              https://price.net/  Papua New Guinea   \n",
       "1  http://www.hall-buchanan.info/           Finland   \n",
       "2       http://sullivan-reed.com/             China   \n",
       "3             https://becker.com/      Turkmenistan   \n",
       "4          http://www.brewer.com/         Mauritius   \n",
       "\n",
       "                                      Description  Founded  \\\n",
       "0             Horizontal empowering knowledgebase     1990   \n",
       "1             User-centric system-worthy leverage     2015   \n",
       "2                  Switchable scalable moratorium     1971   \n",
       "3  De-engineered systemic artificial intelligence     2004   \n",
       "4              Synchronized needs-based challenge     1991   \n",
       "\n",
       "                      Industry  Number of employees  \n",
       "0                     Plastics                 3498  \n",
       "1  Glass / Ceramics / Concrete                 4952  \n",
       "2                Public Safety                 5287  \n",
       "3                   Automotive                  921  \n",
       "4               Transportation                 7870  "
      ]
     },
     "execution_count": 34,
     "metadata": {},
     "output_type": "execute_result"
    }
   ],
   "source": [
    "organizations_1.head()"
   ]
  },
  {
   "cell_type": "code",
   "execution_count": 35,
   "metadata": {},
   "outputs": [],
   "source": [
    "def decode(value: float):\n",
    "    value = str(int(value))\n",
    "    \n",
    "    return chr(int(value[:2]) + int(value[2:]))"
   ]
  },
  {
   "cell_type": "code",
   "execution_count": 39,
   "metadata": {},
   "outputs": [
    {
     "name": "stdout",
     "output_type": "stream",
     "text": [
      "2850.8597994927136\n"
     ]
    }
   ],
   "source": [
    "organizations_combined = pd.concat([organizations_1, organizations_2, organizations_3])\n",
    "\n",
    "std_employees = organizations_combined['Number of employees'].std()\n",
    "\n",
    "print(std_employees)"
   ]
  },
  {
   "cell_type": "code",
   "execution_count": 41,
   "metadata": {},
   "outputs": [
    {
     "name": "stdout",
     "output_type": "stream",
     "text": [
      "your current url is:  https://kmutt.me/LUartyin30557LN\n"
     ]
    }
   ],
   "source": [
    "url = url + decode(std_employees) \n",
    "\n",
    "print(\"your current url is: \", url)"
   ]
  },
  {
   "cell_type": "markdown",
   "metadata": {},
   "source": [
    "## Final Clue: Pokemon configuration 🐱‍👤\n",
    "\n",
    "You just need to add a new column call `stat` that will have a condition below:\n",
    "\n",
    "1. stat calculate from `Attack` + `Defense` + `Speed` + `Sp. Atk` + `Sp. Def` + `HP`\n",
    "1. If it have type `Normal`, `Grass`, `Fire` or `Water`. Attack will increase by 10%.\n",
    "1. If it have type `Electric`, `Ice`, `Fighting` or `Poison`. Defense will increase by 10%.\n",
    "1. If it have type `Ground`, `Flying`, `Psychic` or `Bug`. Speed will increase by 10%.\n",
    "1. If it have type `Rock`, `Ghost`, `Dragon` or `Dark`. Sp. Atk will increase by 10%.\n",
    "1. If It have `speed` more than 100. Sp. Def will increase by 50%.\n",
    "1. If it is a `legendary` pokemon. HP will increase by 100.\n",
    "\n",
    "Then, group by `Type 1` and find the average of `stat` column. This Clue is **important** you must do it, but I will give you the final part of the secret URL. The final part of the secret URL is `pikachu`.\n"
   ]
  },
  {
   "cell_type": "code",
   "execution_count": 42,
   "metadata": {},
   "outputs": [
    {
     "data": {
      "text/html": [
       "<div>\n",
       "<style scoped>\n",
       "    .dataframe tbody tr th:only-of-type {\n",
       "        vertical-align: middle;\n",
       "    }\n",
       "\n",
       "    .dataframe tbody tr th {\n",
       "        vertical-align: top;\n",
       "    }\n",
       "\n",
       "    .dataframe thead th {\n",
       "        text-align: right;\n",
       "    }\n",
       "</style>\n",
       "<table border=\"1\" class=\"dataframe\">\n",
       "  <thead>\n",
       "    <tr style=\"text-align: right;\">\n",
       "      <th></th>\n",
       "      <th>#</th>\n",
       "      <th>Name</th>\n",
       "      <th>Type 1</th>\n",
       "      <th>Type 2</th>\n",
       "      <th>Total</th>\n",
       "      <th>HP</th>\n",
       "      <th>Attack</th>\n",
       "      <th>Defense</th>\n",
       "      <th>Sp. Atk</th>\n",
       "      <th>Sp. Def</th>\n",
       "      <th>Speed</th>\n",
       "      <th>Generation</th>\n",
       "      <th>Legendary</th>\n",
       "    </tr>\n",
       "  </thead>\n",
       "  <tbody>\n",
       "    <tr>\n",
       "      <th>0</th>\n",
       "      <td>1</td>\n",
       "      <td>Bulbasaur</td>\n",
       "      <td>Grass</td>\n",
       "      <td>Poison</td>\n",
       "      <td>318</td>\n",
       "      <td>45</td>\n",
       "      <td>49</td>\n",
       "      <td>49</td>\n",
       "      <td>65</td>\n",
       "      <td>65</td>\n",
       "      <td>45</td>\n",
       "      <td>1</td>\n",
       "      <td>False</td>\n",
       "    </tr>\n",
       "    <tr>\n",
       "      <th>1</th>\n",
       "      <td>2</td>\n",
       "      <td>Ivysaur</td>\n",
       "      <td>Grass</td>\n",
       "      <td>Poison</td>\n",
       "      <td>405</td>\n",
       "      <td>60</td>\n",
       "      <td>62</td>\n",
       "      <td>63</td>\n",
       "      <td>80</td>\n",
       "      <td>80</td>\n",
       "      <td>60</td>\n",
       "      <td>1</td>\n",
       "      <td>False</td>\n",
       "    </tr>\n",
       "    <tr>\n",
       "      <th>2</th>\n",
       "      <td>3</td>\n",
       "      <td>Venusaur</td>\n",
       "      <td>Grass</td>\n",
       "      <td>Poison</td>\n",
       "      <td>525</td>\n",
       "      <td>80</td>\n",
       "      <td>82</td>\n",
       "      <td>83</td>\n",
       "      <td>100</td>\n",
       "      <td>100</td>\n",
       "      <td>80</td>\n",
       "      <td>1</td>\n",
       "      <td>False</td>\n",
       "    </tr>\n",
       "    <tr>\n",
       "      <th>3</th>\n",
       "      <td>3</td>\n",
       "      <td>VenusaurMega Venusaur</td>\n",
       "      <td>Grass</td>\n",
       "      <td>Poison</td>\n",
       "      <td>625</td>\n",
       "      <td>80</td>\n",
       "      <td>100</td>\n",
       "      <td>123</td>\n",
       "      <td>122</td>\n",
       "      <td>120</td>\n",
       "      <td>80</td>\n",
       "      <td>1</td>\n",
       "      <td>False</td>\n",
       "    </tr>\n",
       "    <tr>\n",
       "      <th>4</th>\n",
       "      <td>4</td>\n",
       "      <td>Charmander</td>\n",
       "      <td>Fire</td>\n",
       "      <td>NaN</td>\n",
       "      <td>309</td>\n",
       "      <td>39</td>\n",
       "      <td>52</td>\n",
       "      <td>43</td>\n",
       "      <td>60</td>\n",
       "      <td>50</td>\n",
       "      <td>65</td>\n",
       "      <td>1</td>\n",
       "      <td>False</td>\n",
       "    </tr>\n",
       "  </tbody>\n",
       "</table>\n",
       "</div>"
      ],
      "text/plain": [
       "   #                   Name Type 1  Type 2  Total  HP  Attack  Defense  \\\n",
       "0  1              Bulbasaur  Grass  Poison    318  45      49       49   \n",
       "1  2                Ivysaur  Grass  Poison    405  60      62       63   \n",
       "2  3               Venusaur  Grass  Poison    525  80      82       83   \n",
       "3  3  VenusaurMega Venusaur  Grass  Poison    625  80     100      123   \n",
       "4  4             Charmander   Fire     NaN    309  39      52       43   \n",
       "\n",
       "   Sp. Atk  Sp. Def  Speed  Generation  Legendary  \n",
       "0       65       65     45           1      False  \n",
       "1       80       80     60           1      False  \n",
       "2      100      100     80           1      False  \n",
       "3      122      120     80           1      False  \n",
       "4       60       50     65           1      False  "
      ]
     },
     "execution_count": 42,
     "metadata": {},
     "output_type": "execute_result"
    }
   ],
   "source": [
    "pokemon = pd.read_csv(\"pokemon.csv\")\n",
    "pokemon.head()"
   ]
  },
  {
   "cell_type": "code",
   "execution_count": 43,
   "metadata": {},
   "outputs": [
    {
     "name": "stdout",
     "output_type": "stream",
     "text": [
      "\n",
      "Average stats by Type 1:\n",
      "Type 1\n",
      "Bug         388.986957\n",
      "Dark        467.883871\n",
      "Dragon      609.981250\n",
      "Electric    470.765909\n",
      "Fairy       419.058824\n",
      "Fighting    426.611111\n",
      "Fire        480.486538\n",
      "Flying      576.500000\n",
      "Ghost       458.043750\n",
      "Grass       437.764286\n",
      "Ground      458.734375\n",
      "Ice         453.204167\n",
      "Normal      416.168367\n",
      "Poison      407.453571\n",
      "Psychic     520.771930\n",
      "Rock        474.118182\n",
      "Steel       505.888889\n",
      "Water       443.736607\n",
      "Name: stat, dtype: float64\n"
     ]
    },
    {
     "name": "stderr",
     "output_type": "stream",
     "text": [
      "/tmp/ipykernel_41856/855082990.py:12: FutureWarning: Setting an item of incompatible dtype is deprecated and will raise an error in a future version of pandas. Value '[322.9 411.2 533.2 635.  314.2 411.4 542.4 647.  644.4 318.8 411.3 538.3\n",
      " 640.3 255.5 355.  487.  587.  258.6 421.1 268.  451.  303.1 512.6 274.5\n",
      " 442.  325.  401.5 498.  294.5 447.  325.2 508.2 357.  566.  305.  391.5\n",
      " 519.5 307.5 399.  500.5 339.  522.  418.5 510.  321.5 497.5 597.5 358.5\n",
      " 318.5 471.  329.5 482.  311.5 534.5 335.5 488.  329.  529.5 390.5 450.5\n",
      " 440.5 499.5 602.5 299.  446.5 326.7 459.2 344.5 527.5 504.5 500.  201.\n",
      " 552.5 655.5 543.5 292.8 330.5 531.5 538.  401.  551.  590.  322.9 411.2\n",
      " 533.2 314.2 411.4 542.4 320.5 413.  540.5 219.6 422.6 265.  447.  333.8\n",
      " 465.8 213.  498.  252.  425.  507.5 253.5 344.5 465.5 367.  183.  432.5\n",
      " 214.5 438.5 497.5 463.  422.  439.5 338.  513.  254.  415.  385.5 306.5\n",
      " 490.5 469.  549.5 523.  474.5 252.  372.5 498.  541.  591.5 587.5 693.\n",
      " 314.5 411.5 538.5 641.  316.  413.5 542.  646.  317.  413.5 546.  650.\n",
      " 243.  427.  223.  345.  487.  224.  347.  490.  275.5 438.5 273.  435.\n",
      " 299.  473.  286.  448.  686.  245.1 367.1 499.1 192.  264.5 386.5 406.\n",
      " 314.  472.  574.  407.  509.  311.  470.  572.  478.5 366.  343.5 486.5\n",
      " 314.  469.5 292.8 475.8 316.  480.  201.5 546.  427.  449.  466.8 351.4\n",
      " 495.4 493.4 494.  333.  680.  785.  324.8 413.9 535.9 314.8 412.8 544.4\n",
      " 319.1 411.6 538.6 250.5 347.5 497.  254.5 418.5 283.  522.  336.5 505.5\n",
      " 278.5 456.  329.8 483.3 492.  356.6 487.6 593.6 315.5 460.2 220.5 417.5\n",
      " 398.5 464.  334.9 466.9 347.  340.2 503.2 607.2 523.5 545.  549.5 536.\n",
      " 543.  692.  609.  686.  488.  610.  610.  610.3 732.  312.5 419.  535.5\n",
      " 314.3 427.3 540.3 313.5 420.5 538.  260.5 428.5 281.  378.  511.  321.3\n",
      " 507.8 321.3 507.8 321.3 507.8 269.5 365.7 499.5 451.  551.  299.  390.5\n",
      " 518.5 282.7 486.7 283.5 486.  469.2 324.  494.  543.  469.6 362.8 505.8\n",
      " 305.  479.5 309.4 481.7 341.  485.  299.5 472.5 339.  486.  477.5 310.\n",
      " 498.4 501.  358.3 522.3 493.7 589.  587.2 587.2 607.7 612.8 319.1 412.8\n",
      " 540.7 311.5 414.9 540.9 319.6 411.3 539.5 240.6 428.6 283.  389.3 507.1\n",
      " 374.  513.8 356.5 541.  480.  335.3 507.3 611. ]' has dtype incompatible with int64, please explicitly cast to a compatible dtype first.\n",
      "  pokemon.loc[pokemon['Type 1'].isin(type1_attack_boost), 'stat'] += pokemon.loc[pokemon['Type 1'].isin(type1_attack_boost), 'Attack'] * 0.1\n"
     ]
    }
   ],
   "source": [
    "# Calculate base stat total\n",
    "pokemon['stat'] = pokemon['Attack'] + pokemon['Defense'] + pokemon['Speed'] + \\\n",
    "                 pokemon['Sp. Atk'] + pokemon['Sp. Def'] + pokemon['HP']\n",
    "\n",
    "# Type 1 conditions\n",
    "type1_attack_boost = ['Normal', 'Grass', 'Fire', 'Water']\n",
    "type1_defense_boost = ['Electric', 'Ice', 'Fighting', 'Poison'] \n",
    "type1_speed_boost = ['Ground', 'Flying', 'Psychic', 'Bug']\n",
    "type1_spatk_boost = ['Rock', 'Ghost', 'Dragon', 'Dark']\n",
    "\n",
    "# Apply Type 1 boosts\n",
    "pokemon.loc[pokemon['Type 1'].isin(type1_attack_boost), 'stat'] += pokemon.loc[pokemon['Type 1'].isin(type1_attack_boost), 'Attack'] * 0.1\n",
    "pokemon.loc[pokemon['Type 1'].isin(type1_defense_boost), 'stat'] += pokemon.loc[pokemon['Type 1'].isin(type1_defense_boost), 'Defense'] * 0.1\n",
    "pokemon.loc[pokemon['Type 1'].isin(type1_speed_boost), 'stat'] += pokemon.loc[pokemon['Type 1'].isin(type1_speed_boost), 'Speed'] * 0.1\n",
    "pokemon.loc[pokemon['Type 1'].isin(type1_spatk_boost), 'stat'] += pokemon.loc[pokemon['Type 1'].isin(type1_spatk_boost), 'Sp. Atk'] * 0.1\n",
    "\n",
    "# Speed > 100 condition\n",
    "pokemon.loc[pokemon['Speed'] > 100, 'stat'] += pokemon.loc[pokemon['Speed'] > 100, 'Sp. Def'] * 0.5\n",
    "\n",
    "# Legendary condition  \n",
    "pokemon.loc[pokemon['Legendary'], 'stat'] += 100\n",
    "\n",
    "# Group by Type 1 and get mean of stat\n",
    "type1_stat_means = pokemon.groupby('Type 1')['stat'].mean()\n",
    "print(\"\\nAverage stats by Type 1:\")\n",
    "print(type1_stat_means)\n"
   ]
  },
  {
   "cell_type": "code",
   "execution_count": 44,
   "metadata": {},
   "outputs": [
    {
     "name": "stdout",
     "output_type": "stream",
     "text": [
      "your final url is:  https://kmutt.me/LUartyin30557LNpikachu\n"
     ]
    }
   ],
   "source": [
    "url = url + \"pikachu\"\n",
    "\n",
    "print(\"your final url is: \", url)"
   ]
  },
  {
   "cell_type": "markdown",
   "metadata": {},
   "source": [
    "### Final Mission (Optional)\n",
    "\n",
    "Access the secret URL and complete your quest! 🚀🔓\n",
    "\n",
    "Question: What is the final secret URL? \\\n",
    "Ans:\n",
    "\n",
    "Rick Roll\n",
    "Rick Astley - Never Gonna Give You Up (Official Music Video)\n",
    "https://www.youtube.com/watch?v=dQw4w9WgXcQ\n",
    "\n",
    "https://kmutt.me/LUartyin30557LNpikachu"
   ]
  },
  {
   "cell_type": "markdown",
   "metadata": {},
   "source": [
    "---\n",
    "\n",
    "Enjoy the adventure! 🌟\n"
   ]
  },
  {
   "cell_type": "markdown",
   "metadata": {},
   "source": []
  }
 ],
 "metadata": {
  "kernelspec": {
   "display_name": "dataModel-course",
   "language": "python",
   "name": "python3"
  },
  "language_info": {
   "codemirror_mode": {
    "name": "ipython",
    "version": 3
   },
   "file_extension": ".py",
   "mimetype": "text/x-python",
   "name": "python",
   "nbconvert_exporter": "python",
   "pygments_lexer": "ipython3",
   "version": "3.12.2"
  }
 },
 "nbformat": 4,
 "nbformat_minor": 2
}
