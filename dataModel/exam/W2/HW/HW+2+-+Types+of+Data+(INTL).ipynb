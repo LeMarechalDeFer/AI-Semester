{
  "cells": [
    {
      "cell_type": "markdown",
      "metadata": {},
      "source": [
        "# HW 2: Types of Data\n",
        "#### CPE232 Data Models\n",
        "---"
      ]
    },
    {
      "cell_type": "markdown",
      "metadata": {
        "id": "_C6sD6-IERJG"
      },
      "source": [
        "# Import Dependency"
      ]
    },
    {
      "cell_type": "code",
      "execution_count": 1,
      "metadata": {
        "id": "rJMe-tyMEQ4p"
      },
      "outputs": [],
      "source": [
        "import pandas as pd\n",
        "import matplotlib.pyplot as plt"
      ]
    },
    {
      "cell_type": "markdown",
      "metadata": {
        "id": "M7gVXcwzF8gv"
      },
      "source": [
        "# Part 1 : Basic Python"
      ]
    },
    {
      "cell_type": "markdown",
      "metadata": {
        "id": "ZizA7iWUGEJ6"
      },
      "source": [
        "## Task 1"
      ]
    },
    {
      "cell_type": "markdown",
      "metadata": {
        "id": "gWtiOdZ3GHHx"
      },
      "source": [
        "Perform the following:\n",
        "- Write a program to get input of different types from the user. \n",
        "- Display type of each variable.\n",
        "- Convert a variable of the type float to Integer.\n",
        "- Demonstrate a comparison of before vs after the type conversion."
      ]
    },
    {
      "cell_type": "code",
      "execution_count": 2,
      "metadata": {
        "id": "kfNoLb-FF-m5"
      },
      "outputs": [],
      "source": [
        "# Input values from the user\n",
        "string_value = input(\"Enter a string: \")\n",
        "integer_value = int(input(\"Enter an integer: \"))\n",
        "float_value = float(input(\"Enter a float: \"))"
      ]
    },
    {
      "cell_type": "code",
      "execution_count": 3,
      "metadata": {
        "id": "NEb5FRMzGYlP"
      },
      "outputs": [
        {
          "name": "stdout",
          "output_type": "stream",
          "text": [
            "<class 'str'>\n",
            "<class 'int'>\n",
            "<class 'float'>\n"
          ]
        }
      ],
      "source": [
        "# Display the data types\n",
        "print(type(string_value))\n",
        "print(type(integer_value))\n",
        "print(type(float_value))"
      ]
    },
    {
      "cell_type": "code",
      "execution_count": 6,
      "metadata": {
        "id": "r1YAS93cGn1W"
      },
      "outputs": [
        {
          "name": "stdout",
          "output_type": "stream",
          "text": [
            "5.0\n",
            "4\n"
          ]
        }
      ],
      "source": [
        "# Convert integer to float and vice versa\n",
        "int_to_float = float(integer_value)\n",
        "float_to_int = int(float_value)\n",
        "\n",
        "print(int_to_float)\n",
        "print(float_to_int)"
      ]
    },
    {
      "cell_type": "code",
      "execution_count": null,
      "metadata": {
        "id": "vkQwFOH0GBHq"
      },
      "outputs": [],
      "source": [
        "# Show before and after convert float to int"
      ]
    },
    {
      "cell_type": "markdown",
      "metadata": {
        "id": "V6rZQ_mKGxV6"
      },
      "source": [
        "## Task 2"
      ]
    },
    {
      "cell_type": "markdown",
      "metadata": {
        "id": "1ytsZGx5Gzyk"
      },
      "source": [
        "Given a dictionary of students with their scores, find the average score of each student across all subjects and identify the student with the highest average score."
      ]
    },
    {
      "cell_type": "code",
      "execution_count": 12,
      "metadata": {
        "id": "kze1CuNGHIXB"
      },
      "outputs": [],
      "source": [
        "students_grades = {\n",
        "    \"John\": [85, 90, 78],\n",
        "    \"Alice\": [88, 92, 80],\n",
        "    \"Bob\": [75, 85, 72],\n",
        "    \"Diana\": [90, 95, 94],\n",
        "    \"Charlie\": [70, 65, 80]\n",
        "}"
      ]
    },
    {
      "cell_type": "code",
      "execution_count": 17,
      "metadata": {
        "id": "wGO6J-owHLeG"
      },
      "outputs": [
        {
          "name": "stdout",
          "output_type": "stream",
          "text": [
            "{'John': 84.33333333333333, 'Alice': 86.66666666666667, 'Bob': 77.33333333333333, 'Diana': 93.0, 'Charlie': 71.66666666666667}\n"
          ]
        }
      ],
      "source": [
        "# Calculate and print the average grade for each student\n",
        "averagegrades= {}\n",
        "def averageGrade(students_grades):\n",
        "    for student, grades in students_grades.items():  # ✅ Use .items() to get both key and value\n",
        "        averagegrade = sum(grades) / len(grades)  # ✅ Calculate average\n",
        "        averagegrades[student] = averagegrade  # ✅ Store in dictionary\n",
        "\n",
        "# Call function\n",
        "averageGrade(students_grades)\n",
        "\n",
        "# Print result\n",
        "print(averagegrades)"
      ]
    },
    {
      "cell_type": "code",
      "execution_count": 19,
      "metadata": {
        "id": "erBdHagTHMZ1"
      },
      "outputs": [
        {
          "name": "stdout",
          "output_type": "stream",
          "text": [
            "Best is Diana with 93.0 average grade\n"
          ]
        }
      ],
      "source": [
        "# Find the student with the highest average grade\n",
        "highest = 0\n",
        "highestStudent = \"Any\"\n",
        "\n",
        "for student, value in averagegrades.items():\n",
        "    if value > highest:\n",
        "        highestStudent = student\n",
        "        highest = value\n",
        "\n",
        "\n",
        "print(f\"Best is {highestStudent} with {highest} average grade\")"
      ]
    },
    {
      "cell_type": "markdown",
      "metadata": {
        "id": "vedd5LajDZpc"
      },
      "source": [
        "# Part 2 : Working with CSV!"
      ]
    },
    {
      "cell_type": "markdown",
      "metadata": {
        "id": "-SunXx4IEcNa"
      },
      "source": [
        "Add a new column to this CSV file named \"Bonus,\" and calculate the bonus for employees in the Sales department as 10% of their MonthlyRate."
      ]
    },
    {
      "cell_type": "code",
      "execution_count": 20,
      "metadata": {
        "id": "5K7zeMGTBMBq"
      },
      "outputs": [],
      "source": [
        "# Load the CSV file\n",
        "file_path = 'employee_data.csv'\n",
        "df = pd.read_csv(file_path)"
      ]
    },
    {
      "cell_type": "code",
      "execution_count": 27,
      "metadata": {
        "colab": {
          "base_uri": "https://localhost:8080/",
          "height": 206
        },
        "id": "SayuQhbgFEkZ",
        "outputId": "7810d610-bf4c-49fe-8723-ba6f9adb323d"
      },
      "outputs": [
        {
          "data": {
            "text/html": [
              "<div>\n",
              "<style scoped>\n",
              "    .dataframe tbody tr th:only-of-type {\n",
              "        vertical-align: middle;\n",
              "    }\n",
              "\n",
              "    .dataframe tbody tr th {\n",
              "        vertical-align: top;\n",
              "    }\n",
              "\n",
              "    .dataframe thead th {\n",
              "        text-align: right;\n",
              "    }\n",
              "</style>\n",
              "<table border=\"1\" class=\"dataframe\">\n",
              "  <thead>\n",
              "    <tr style=\"text-align: right;\">\n",
              "      <th></th>\n",
              "      <th>Age</th>\n",
              "      <th>DailyRate</th>\n",
              "      <th>Department</th>\n",
              "      <th>EducationField</th>\n",
              "      <th>Gender</th>\n",
              "      <th>MaritalStatus</th>\n",
              "      <th>MonthlyRate</th>\n",
              "      <th>OverTime</th>\n",
              "      <th>Bonus</th>\n",
              "    </tr>\n",
              "  </thead>\n",
              "  <tbody>\n",
              "    <tr>\n",
              "      <th>0</th>\n",
              "      <td>41</td>\n",
              "      <td>1102</td>\n",
              "      <td>Sales</td>\n",
              "      <td>Life Sciences</td>\n",
              "      <td>Female</td>\n",
              "      <td>Single</td>\n",
              "      <td>19479</td>\n",
              "      <td>Yes</td>\n",
              "      <td>1947.9</td>\n",
              "    </tr>\n",
              "    <tr>\n",
              "      <th>1</th>\n",
              "      <td>49</td>\n",
              "      <td>279</td>\n",
              "      <td>Research &amp; Development</td>\n",
              "      <td>Life Sciences</td>\n",
              "      <td>Male</td>\n",
              "      <td>Married</td>\n",
              "      <td>24907</td>\n",
              "      <td>No</td>\n",
              "      <td>2490.7</td>\n",
              "    </tr>\n",
              "    <tr>\n",
              "      <th>2</th>\n",
              "      <td>37</td>\n",
              "      <td>1373</td>\n",
              "      <td>Research &amp; Development</td>\n",
              "      <td>Other</td>\n",
              "      <td>Male</td>\n",
              "      <td>Single</td>\n",
              "      <td>2396</td>\n",
              "      <td>Yes</td>\n",
              "      <td>239.6</td>\n",
              "    </tr>\n",
              "    <tr>\n",
              "      <th>3</th>\n",
              "      <td>33</td>\n",
              "      <td>1392</td>\n",
              "      <td>Research &amp; Development</td>\n",
              "      <td>Life Sciences</td>\n",
              "      <td>Female</td>\n",
              "      <td>Married</td>\n",
              "      <td>23159</td>\n",
              "      <td>Yes</td>\n",
              "      <td>2315.9</td>\n",
              "    </tr>\n",
              "    <tr>\n",
              "      <th>4</th>\n",
              "      <td>27</td>\n",
              "      <td>591</td>\n",
              "      <td>Research &amp; Development</td>\n",
              "      <td>Medical</td>\n",
              "      <td>Male</td>\n",
              "      <td>Married</td>\n",
              "      <td>16632</td>\n",
              "      <td>No</td>\n",
              "      <td>1663.2</td>\n",
              "    </tr>\n",
              "  </tbody>\n",
              "</table>\n",
              "</div>"
            ],
            "text/plain": [
              "   Age  DailyRate              Department EducationField  Gender  \\\n",
              "0   41       1102                   Sales  Life Sciences  Female   \n",
              "1   49        279  Research & Development  Life Sciences    Male   \n",
              "2   37       1373  Research & Development          Other    Male   \n",
              "3   33       1392  Research & Development  Life Sciences  Female   \n",
              "4   27        591  Research & Development        Medical    Male   \n",
              "\n",
              "  MaritalStatus  MonthlyRate OverTime   Bonus  \n",
              "0        Single        19479      Yes  1947.9  \n",
              "1       Married        24907       No  2490.7  \n",
              "2        Single         2396      Yes   239.6  \n",
              "3       Married        23159      Yes  2315.9  \n",
              "4       Married        16632       No  1663.2  "
            ]
          },
          "execution_count": 27,
          "metadata": {},
          "output_type": "execute_result"
        }
      ],
      "source": [
        "df.head()"
      ]
    },
    {
      "cell_type": "code",
      "execution_count": 25,
      "metadata": {
        "id": "mqOYqV_QEVWY"
      },
      "outputs": [
        {
          "ename": "AttributeError",
          "evalue": "'DataFrame' object has no attribute 'Length'",
          "output_type": "error",
          "traceback": [
            "\u001b[0;31m---------------------------------------------------------------------------\u001b[0m",
            "\u001b[0;31mAttributeError\u001b[0m                            Traceback (most recent call last)",
            "\u001b[0;32m/tmp/ipykernel_43544/52330989.py\u001b[0m in \u001b[0;36m?\u001b[0;34m()\u001b[0m\n\u001b[1;32m      1\u001b[0m \u001b[0;31m# Add new column call 'Bonus'\u001b[0m\u001b[0;34m\u001b[0m\u001b[0;34m\u001b[0m\u001b[0m\n\u001b[1;32m      2\u001b[0m \u001b[0mdf\u001b[0m\u001b[0;34m[\u001b[0m\u001b[0;34m\"Bonus\"\u001b[0m\u001b[0;34m]\u001b[0m\u001b[0;34m=\u001b[0m\u001b[0;36m0\u001b[0m\u001b[0;34m\u001b[0m\u001b[0;34m\u001b[0m\u001b[0m\n\u001b[0;32m----> 3\u001b[0;31m \u001b[0mdf\u001b[0m\u001b[0;34m[\u001b[0m\u001b[0;34m'Volume'\u001b[0m\u001b[0;34m]\u001b[0m \u001b[0;34m=\u001b[0m \u001b[0mdf\u001b[0m\u001b[0;34m.\u001b[0m\u001b[0mLength\u001b[0m\u001b[0;34m*\u001b[0m\u001b[0mdf\u001b[0m\u001b[0;34m.\u001b[0m\u001b[0mHeight\u001b[0m\u001b[0;34m*\u001b[0m\u001b[0mdf\u001b[0m\u001b[0;34m.\u001b[0m\u001b[0mDepth\u001b[0m\u001b[0;34m\u001b[0m\u001b[0;34m\u001b[0m\u001b[0m\n\u001b[0m",
            "\u001b[0;32m~/anaconda3/envs/dataModel-course/lib/python3.12/site-packages/pandas/core/generic.py\u001b[0m in \u001b[0;36m?\u001b[0;34m(self, name)\u001b[0m\n\u001b[1;32m   6295\u001b[0m             \u001b[0;32mand\u001b[0m \u001b[0mname\u001b[0m \u001b[0;32mnot\u001b[0m \u001b[0;32min\u001b[0m \u001b[0mself\u001b[0m\u001b[0;34m.\u001b[0m\u001b[0m_accessors\u001b[0m\u001b[0;34m\u001b[0m\u001b[0;34m\u001b[0m\u001b[0m\n\u001b[1;32m   6296\u001b[0m             \u001b[0;32mand\u001b[0m \u001b[0mself\u001b[0m\u001b[0;34m.\u001b[0m\u001b[0m_info_axis\u001b[0m\u001b[0;34m.\u001b[0m\u001b[0m_can_hold_identifiers_and_holds_name\u001b[0m\u001b[0;34m(\u001b[0m\u001b[0mname\u001b[0m\u001b[0;34m)\u001b[0m\u001b[0;34m\u001b[0m\u001b[0;34m\u001b[0m\u001b[0m\n\u001b[1;32m   6297\u001b[0m         \u001b[0;34m)\u001b[0m\u001b[0;34m:\u001b[0m\u001b[0;34m\u001b[0m\u001b[0;34m\u001b[0m\u001b[0m\n\u001b[1;32m   6298\u001b[0m             \u001b[0;32mreturn\u001b[0m \u001b[0mself\u001b[0m\u001b[0;34m[\u001b[0m\u001b[0mname\u001b[0m\u001b[0;34m]\u001b[0m\u001b[0;34m\u001b[0m\u001b[0;34m\u001b[0m\u001b[0m\n\u001b[0;32m-> 6299\u001b[0;31m         \u001b[0;32mreturn\u001b[0m \u001b[0mobject\u001b[0m\u001b[0;34m.\u001b[0m\u001b[0m__getattribute__\u001b[0m\u001b[0;34m(\u001b[0m\u001b[0mself\u001b[0m\u001b[0;34m,\u001b[0m \u001b[0mname\u001b[0m\u001b[0;34m)\u001b[0m\u001b[0;34m\u001b[0m\u001b[0;34m\u001b[0m\u001b[0m\n\u001b[0m",
            "\u001b[0;31mAttributeError\u001b[0m: 'DataFrame' object has no attribute 'Length'"
          ]
        }
      ],
      "source": [
        "# Add new column call 'Bonus'\n",
        "df[\"Bonus\"]=0\n"
      ]
    },
    {
      "cell_type": "code",
      "execution_count": 26,
      "metadata": {
        "id": "RlswWTzYE3NM"
      },
      "outputs": [],
      "source": [
        "# Calculate 10% of bonus into the 'Bonus' Column\n",
        "df[\"Bonus\"] = df.MonthlyRate * 0.1"
      ]
    },
    {
      "cell_type": "code",
      "execution_count": 28,
      "metadata": {
        "id": "AIVAF977Fdg0"
      },
      "outputs": [
        {
          "data": {
            "text/html": [
              "<div>\n",
              "<style scoped>\n",
              "    .dataframe tbody tr th:only-of-type {\n",
              "        vertical-align: middle;\n",
              "    }\n",
              "\n",
              "    .dataframe tbody tr th {\n",
              "        vertical-align: top;\n",
              "    }\n",
              "\n",
              "    .dataframe thead th {\n",
              "        text-align: right;\n",
              "    }\n",
              "</style>\n",
              "<table border=\"1\" class=\"dataframe\">\n",
              "  <thead>\n",
              "    <tr style=\"text-align: right;\">\n",
              "      <th></th>\n",
              "      <th>Age</th>\n",
              "      <th>DailyRate</th>\n",
              "      <th>Department</th>\n",
              "      <th>EducationField</th>\n",
              "      <th>Gender</th>\n",
              "      <th>MaritalStatus</th>\n",
              "      <th>MonthlyRate</th>\n",
              "      <th>OverTime</th>\n",
              "      <th>Bonus</th>\n",
              "    </tr>\n",
              "  </thead>\n",
              "  <tbody>\n",
              "    <tr>\n",
              "      <th>0</th>\n",
              "      <td>41</td>\n",
              "      <td>1102</td>\n",
              "      <td>Sales</td>\n",
              "      <td>Life Sciences</td>\n",
              "      <td>Female</td>\n",
              "      <td>Single</td>\n",
              "      <td>19479</td>\n",
              "      <td>Yes</td>\n",
              "      <td>1947.9</td>\n",
              "    </tr>\n",
              "    <tr>\n",
              "      <th>1</th>\n",
              "      <td>49</td>\n",
              "      <td>279</td>\n",
              "      <td>Research &amp; Development</td>\n",
              "      <td>Life Sciences</td>\n",
              "      <td>Male</td>\n",
              "      <td>Married</td>\n",
              "      <td>24907</td>\n",
              "      <td>No</td>\n",
              "      <td>2490.7</td>\n",
              "    </tr>\n",
              "    <tr>\n",
              "      <th>2</th>\n",
              "      <td>37</td>\n",
              "      <td>1373</td>\n",
              "      <td>Research &amp; Development</td>\n",
              "      <td>Other</td>\n",
              "      <td>Male</td>\n",
              "      <td>Single</td>\n",
              "      <td>2396</td>\n",
              "      <td>Yes</td>\n",
              "      <td>239.6</td>\n",
              "    </tr>\n",
              "    <tr>\n",
              "      <th>3</th>\n",
              "      <td>33</td>\n",
              "      <td>1392</td>\n",
              "      <td>Research &amp; Development</td>\n",
              "      <td>Life Sciences</td>\n",
              "      <td>Female</td>\n",
              "      <td>Married</td>\n",
              "      <td>23159</td>\n",
              "      <td>Yes</td>\n",
              "      <td>2315.9</td>\n",
              "    </tr>\n",
              "    <tr>\n",
              "      <th>4</th>\n",
              "      <td>27</td>\n",
              "      <td>591</td>\n",
              "      <td>Research &amp; Development</td>\n",
              "      <td>Medical</td>\n",
              "      <td>Male</td>\n",
              "      <td>Married</td>\n",
              "      <td>16632</td>\n",
              "      <td>No</td>\n",
              "      <td>1663.2</td>\n",
              "    </tr>\n",
              "  </tbody>\n",
              "</table>\n",
              "</div>"
            ],
            "text/plain": [
              "   Age  DailyRate              Department EducationField  Gender  \\\n",
              "0   41       1102                   Sales  Life Sciences  Female   \n",
              "1   49        279  Research & Development  Life Sciences    Male   \n",
              "2   37       1373  Research & Development          Other    Male   \n",
              "3   33       1392  Research & Development  Life Sciences  Female   \n",
              "4   27        591  Research & Development        Medical    Male   \n",
              "\n",
              "  MaritalStatus  MonthlyRate OverTime   Bonus  \n",
              "0        Single        19479      Yes  1947.9  \n",
              "1       Married        24907       No  2490.7  \n",
              "2        Single         2396      Yes   239.6  \n",
              "3       Married        23159      Yes  2315.9  \n",
              "4       Married        16632       No  1663.2  "
            ]
          },
          "execution_count": 28,
          "metadata": {},
          "output_type": "execute_result"
        }
      ],
      "source": [
        "# Print and show result\n",
        "df.head()"
      ]
    },
    {
      "cell_type": "code",
      "execution_count": 30,
      "metadata": {
        "id": "-kdUJtE1FgEL"
      },
      "outputs": [],
      "source": [
        "# Save the updated DataFrame back to a CSV file\n",
        "df.to_csv(\"dataE.csv\", index=False)"
      ]
    },
    {
      "cell_type": "markdown",
      "metadata": {
        "id": "siUU4Z19FmTr"
      },
      "source": [
        "# Part 3 : Working with Matplotlib"
      ]
    },
    {
      "cell_type": "markdown",
      "metadata": {
        "id": "5GLA4nYnIURl"
      },
      "source": [
        "Plot a graph showing the average salary of employees in each department to compare the average salaries across departments."
      ]
    },
    {
      "cell_type": "code",
      "execution_count": 58,
      "metadata": {
        "id": "P5-qoxEyIpdN"
      },
      "outputs": [],
      "source": [
        "# Load CSV and create DataFrame\n",
        "data = pd.read_csv('employee_data.csv')\n",
        "df = pd.DataFrame(data)"
      ]
    },
    {
      "cell_type": "code",
      "execution_count": 65,
      "metadata": {
        "id": "HtYFO0xPIt1a"
      },
      "outputs": [],
      "source": [
        "# Calculate average MonthlyRate by Department\n",
        "averagesalaryy = df.groupby('Department')['MonthlyRate'].mean() \n",
        "# average_salary = df.groupby('Department')['MonthlyRate'].mean()\n"
      ]
    },
    {
      "cell_type": "code",
      "execution_count": 75,
      "metadata": {
        "id": "d9RgD_DmIwCp"
      },
      "outputs": [
        {
          "data": {
            "text/plain": [
              "<Axes: title={'center': 'Salaire Moyen par Département'}, xlabel='Department'>"
            ]
          },
          "execution_count": 75,
          "metadata": {},
          "output_type": "execute_result"
        },
        {
          "data": {
            "image/png": "[encoded data removed]",
            "text/plain": [
              "<Figure size 640x480 with 1 Axes>"
            ]
          },
          "metadata": {},
          "output_type": "display_data"
        }
      ],
      "source": [
        "# # Plotting the bar chart\n",
        "# plt.figure()\n",
        "# averagesalaryy.plot()\n",
        "# # plt.figure(figsize=(10, 6))\n",
        "# # averagesalaryy.plot(kind='bar', color='skyblue')\n",
        "# plt.title('Average Monthly Rate by Department')\n",
        "# plt.xlabel('Department')\n",
        "# plt.ylabel('Average Monthly Rate')\n",
        "# averagesalaryy.plot.hist(bins=5, color=\"skyblue\", edgecolor=\"black\", title=\"Distribution des Salaires\")\n",
        "averagesalaryy.plot(kind='bar', color='skyblue', edgecolor=\"black\", title=\"Salaire Moyen par Département\")\n",
        "\n"
      ]
    },
    {
      "cell_type": "markdown",
      "metadata": {
        "id": "Ha13UaGfI2E1"
      },
      "source": [
        "# Challenge!!! : Working with SATAN (Optional)"
      ]
    },
    {
      "cell_type": "markdown",
      "metadata": {
        "id": "3dR3-jHjJKPy"
      },
      "source": [
        "Great job, for not giving up on this subject!\n",
        "\n",
        "<div>\n",
        "<img src=\"https://media2.giphy.com/media/ErZ8hv5eO92JW/200.gif?cid=6c09b952k9ykzx0na1tsrm5sa0gb4m4z39w5z6z65u05oohs&ep=v1_gifs_search&rid=200.gif&ct=g\" width=\"500\"/>\n",
        "</div>\n"
      ]
    },
    {
      "cell_type": "markdown",
      "metadata": {
        "id": "Dk_GINWZJ_M0"
      },
      "source": [
        "Here’s the story: The CSV file that was given to you isn’t just an ordinary file -- it’s data from an organization where Alya-San works!\n",
        "\n",
        "<div>\n",
        "<img src=\"https://preview.redd.it/all-hail-alya-v0-8tiwrh5d3b3e1.jpeg?auto=webp&s=f22e38e7544697d75f2264f005504e5eb81a9721\" width=\"500\"/>\n",
        "</div>"
      ]
    },
    {
      "cell_type": "markdown",
      "metadata": {
        "id": "r8tMZ0nsLvKm"
      },
      "source": [
        "Alya feels that something suspicious is going on within the company. She suspects that there’s inequality in salaries between male and female employees.\n",
        "\n",
        "She also wonders if the government might be intervening to encourage population growth by secretly increasing the salaries of married employees compared to those who are single.\n",
        "\n",
        "Additionally, how much of a difference is there in salaries between employees who graduated from different fields of study?\n",
        "\n",
        "Can you help Alya prove whether her suspicions are just in her head or if they’re actually true?\n",
        "\n",
        "For Aria, everyone is truly **e q u a l**."
      ]
    },
    {
      "cell_type": "code",
      "execution_count": 10,
      "metadata": {
        "id": "SUghYHDpJAHm"
      },
      "outputs": [],
      "source": [
        "# Implement code here"
      ]
    },
    {
      "cell_type": "markdown",
      "metadata": {
        "id": "M51Bo6B6M0XU"
      },
      "source": [
        "Since Kobayashi-san will be reviewing your code, please present the data in a way that is clear and accurate. Otherwise, Kobayashi-san might fire you from the company!\n",
        "\n",
        "<div>\n",
        "<img src=\"https://i.redd.it/gwmyhe5g0av71.gif\" width=\"500\"/>\n",
        "</div>"
      ]
    },
    {
      "cell_type": "code",
      "execution_count": null,
      "metadata": {
        "id": "lKhIrmWxNbot"
      },
      "outputs": [],
      "source": [
        "# Write your code here"
      ]
    }
  ],
  "metadata": {
    "colab": {
      "provenance": [],
      "toc_visible": true
    },
    "kernelspec": {
      "display_name": "dataModel-course",
      "language": "python",
      "name": "python3"
    },
    "language_info": {
      "codemirror_mode": {
        "name": "ipython",
        "version": 3
      },
      "file_extension": ".py",
      "mimetype": "text/x-python",
      "name": "python",
      "nbconvert_exporter": "python",
      "pygments_lexer": "ipython3",
      "version": "3.12.2"
    }
  },
  "nbformat": 4,
  "nbformat_minor": 0
}
