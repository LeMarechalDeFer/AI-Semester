{
 "cells": [
  {
   "cell_type": "markdown",
   "metadata": {},
   "source": [
    "# Homework 3: Data Preparation\n",
    "\n",
    "#### CPE232 Data Models\n",
    "\n",
    "---\n"
   ]
  },
  {
   "cell_type": "markdown",
   "metadata": {},
   "source": [
    "## Project setup\n"
   ]
  },
  {
   "cell_type": "code",
   "execution_count": null,
   "metadata": {},
   "outputs": [],
   "source": [
    "# !pip install matplotlib"
   ]
  },
  {
   "cell_type": "code",
   "execution_count": 1,
   "metadata": {},
   "outputs": [],
   "source": [
    "import pandas as pd\n",
    "\n",
    "df = pd.read_csv('bike_sharing_demand.csv')"
   ]
  },
  {
   "cell_type": "code",
   "execution_count": 2,
   "metadata": {},
   "outputs": [
    {
     "data": {
      "text/html": [
       "<div>\n",
       "<style scoped>\n",
       "    .dataframe tbody tr th:only-of-type {\n",
       "        vertical-align: middle;\n",
       "    }\n",
       "\n",
       "    .dataframe tbody tr th {\n",
       "        vertical-align: top;\n",
       "    }\n",
       "\n",
       "    .dataframe thead th {\n",
       "        text-align: right;\n",
       "    }\n",
       "</style>\n",
       "<table border=\"1\" class=\"dataframe\">\n",
       "  <thead>\n",
       "    <tr style=\"text-align: right;\">\n",
       "      <th></th>\n",
       "      <th>season</th>\n",
       "      <th>year</th>\n",
       "      <th>month</th>\n",
       "      <th>hour</th>\n",
       "      <th>holiday</th>\n",
       "      <th>weekday</th>\n",
       "      <th>workingday</th>\n",
       "      <th>weather</th>\n",
       "      <th>temp</th>\n",
       "      <th>feel_temp</th>\n",
       "      <th>humidity</th>\n",
       "      <th>windspeed</th>\n",
       "      <th>count</th>\n",
       "    </tr>\n",
       "  </thead>\n",
       "  <tbody>\n",
       "    <tr>\n",
       "      <th>0</th>\n",
       "      <td>spring</td>\n",
       "      <td>0</td>\n",
       "      <td>1</td>\n",
       "      <td>0</td>\n",
       "      <td>False</td>\n",
       "      <td>6</td>\n",
       "      <td>False</td>\n",
       "      <td>clear</td>\n",
       "      <td>9.84</td>\n",
       "      <td>14.395</td>\n",
       "      <td>0.81</td>\n",
       "      <td>0.0</td>\n",
       "      <td>16</td>\n",
       "    </tr>\n",
       "    <tr>\n",
       "      <th>1</th>\n",
       "      <td>spring</td>\n",
       "      <td>0</td>\n",
       "      <td>1</td>\n",
       "      <td>1</td>\n",
       "      <td>False</td>\n",
       "      <td>6</td>\n",
       "      <td>False</td>\n",
       "      <td>clear</td>\n",
       "      <td>9.02</td>\n",
       "      <td>13.635</td>\n",
       "      <td>NaN</td>\n",
       "      <td>0.0</td>\n",
       "      <td>40</td>\n",
       "    </tr>\n",
       "    <tr>\n",
       "      <th>2</th>\n",
       "      <td>spring</td>\n",
       "      <td>0</td>\n",
       "      <td>1</td>\n",
       "      <td>2</td>\n",
       "      <td>False</td>\n",
       "      <td>6</td>\n",
       "      <td>False</td>\n",
       "      <td>clear</td>\n",
       "      <td>9.02</td>\n",
       "      <td>13.635</td>\n",
       "      <td>0.80</td>\n",
       "      <td>0.0</td>\n",
       "      <td>32</td>\n",
       "    </tr>\n",
       "    <tr>\n",
       "      <th>3</th>\n",
       "      <td>spring</td>\n",
       "      <td>0</td>\n",
       "      <td>1</td>\n",
       "      <td>3</td>\n",
       "      <td>False</td>\n",
       "      <td>6</td>\n",
       "      <td>False</td>\n",
       "      <td>clear</td>\n",
       "      <td>9.84</td>\n",
       "      <td>14.395</td>\n",
       "      <td>0.75</td>\n",
       "      <td>0.0</td>\n",
       "      <td>13</td>\n",
       "    </tr>\n",
       "    <tr>\n",
       "      <th>4</th>\n",
       "      <td>spring</td>\n",
       "      <td>0</td>\n",
       "      <td>1</td>\n",
       "      <td>4</td>\n",
       "      <td>False</td>\n",
       "      <td>6</td>\n",
       "      <td>False</td>\n",
       "      <td>clear</td>\n",
       "      <td>9.84</td>\n",
       "      <td>14.395</td>\n",
       "      <td>0.75</td>\n",
       "      <td>0.0</td>\n",
       "      <td>1</td>\n",
       "    </tr>\n",
       "  </tbody>\n",
       "</table>\n",
       "</div>"
      ],
      "text/plain": [
       "   season  year  month  hour  holiday  weekday  workingday weather  temp  \\\n",
       "0  spring     0      1     0    False        6       False   clear  9.84   \n",
       "1  spring     0      1     1    False        6       False   clear  9.02   \n",
       "2  spring     0      1     2    False        6       False   clear  9.02   \n",
       "3  spring     0      1     3    False        6       False   clear  9.84   \n",
       "4  spring     0      1     4    False        6       False   clear  9.84   \n",
       "\n",
       "   feel_temp  humidity  windspeed  count  \n",
       "0     14.395      0.81        0.0     16  \n",
       "1     13.635       NaN        0.0     40  \n",
       "2     13.635      0.80        0.0     32  \n",
       "3     14.395      0.75        0.0     13  \n",
       "4     14.395      0.75        0.0      1  "
      ]
     },
     "execution_count": 2,
     "metadata": {},
     "output_type": "execute_result"
    }
   ],
   "source": [
    "df.head()"
   ]
  },
  {
   "cell_type": "code",
   "execution_count": 3,
   "metadata": {},
   "outputs": [],
   "source": [
    "url = \"https://kmutt.me/\""
   ]
  },
  {
   "cell_type": "markdown",
   "metadata": {},
   "source": [
    "## 🔎 The Secret URL Challenge!\n",
    "\n",
    "Welcome, brave explorer! Your mission, should you choose to accept it, is to uncover a hidden phrase scattered across the questions below. Each question holds a vital clue—a word or phrase—that will bring you closer to unlocking the **Secret URL**!\n",
    "\n",
    "🕵️‍♂️ Once you have gathered all the hidden words, combine them **in order** and attach them to this URL:  \n",
    "🔗 `https://kmutt.me/[your_combined_phrase]`\n",
    "\n",
    "For example, if you discover the words `['quest', 'begin']`, your final URL will be:  \n",
    "✨ `https://kmutt.me/questbegin` ✨\n",
    "\n",
    "Are you ready to solve the mystery and reveal the secret link? Let the adventure begin! 🚀🔐\n"
   ]
  },
  {
   "cell_type": "code",
   "execution_count": 4,
   "metadata": {},
   "outputs": [
    {
     "data": {
      "text/html": [
       "<div>\n",
       "<style scoped>\n",
       "    .dataframe tbody tr th:only-of-type {\n",
       "        vertical-align: middle;\n",
       "    }\n",
       "\n",
       "    .dataframe tbody tr th {\n",
       "        vertical-align: top;\n",
       "    }\n",
       "\n",
       "    .dataframe thead th {\n",
       "        text-align: right;\n",
       "    }\n",
       "</style>\n",
       "<table border=\"1\" class=\"dataframe\">\n",
       "  <thead>\n",
       "    <tr style=\"text-align: right;\">\n",
       "      <th></th>\n",
       "      <th>year</th>\n",
       "      <th>month</th>\n",
       "      <th>hour</th>\n",
       "      <th>weekday</th>\n",
       "      <th>temp</th>\n",
       "      <th>feel_temp</th>\n",
       "      <th>humidity</th>\n",
       "      <th>windspeed</th>\n",
       "      <th>count</th>\n",
       "    </tr>\n",
       "  </thead>\n",
       "  <tbody>\n",
       "    <tr>\n",
       "      <th>count</th>\n",
       "      <td>200.0</td>\n",
       "      <td>200.0</td>\n",
       "      <td>200.000000</td>\n",
       "      <td>200.000000</td>\n",
       "      <td>200.000000</td>\n",
       "      <td>200.000000</td>\n",
       "      <td>170.000000</td>\n",
       "      <td>200.000000</td>\n",
       "      <td>200.000000</td>\n",
       "    </tr>\n",
       "    <tr>\n",
       "      <th>mean</th>\n",
       "      <td>0.0</td>\n",
       "      <td>1.0</td>\n",
       "      <td>11.455000</td>\n",
       "      <td>3.160000</td>\n",
       "      <td>9.389000</td>\n",
       "      <td>11.689600</td>\n",
       "      <td>0.559059</td>\n",
       "      <td>13.745452</td>\n",
       "      <td>53.950000</td>\n",
       "    </tr>\n",
       "    <tr>\n",
       "      <th>std</th>\n",
       "      <td>0.0</td>\n",
       "      <td>0.0</td>\n",
       "      <td>6.832377</td>\n",
       "      <td>2.235933</td>\n",
       "      <td>3.713618</td>\n",
       "      <td>4.580663</td>\n",
       "      <td>0.176368</td>\n",
       "      <td>8.637962</td>\n",
       "      <td>48.931472</td>\n",
       "    </tr>\n",
       "    <tr>\n",
       "      <th>min</th>\n",
       "      <td>0.0</td>\n",
       "      <td>1.0</td>\n",
       "      <td>0.000000</td>\n",
       "      <td>0.000000</td>\n",
       "      <td>3.280000</td>\n",
       "      <td>3.030000</td>\n",
       "      <td>0.280000</td>\n",
       "      <td>0.000000</td>\n",
       "      <td>1.000000</td>\n",
       "    </tr>\n",
       "    <tr>\n",
       "      <th>25%</th>\n",
       "      <td>0.0</td>\n",
       "      <td>1.0</td>\n",
       "      <td>6.000000</td>\n",
       "      <td>1.000000</td>\n",
       "      <td>6.560000</td>\n",
       "      <td>9.090000</td>\n",
       "      <td>0.422500</td>\n",
       "      <td>7.001500</td>\n",
       "      <td>12.000000</td>\n",
       "    </tr>\n",
       "    <tr>\n",
       "      <th>50%</th>\n",
       "      <td>0.0</td>\n",
       "      <td>1.0</td>\n",
       "      <td>11.000000</td>\n",
       "      <td>3.000000</td>\n",
       "      <td>8.200000</td>\n",
       "      <td>10.985000</td>\n",
       "      <td>0.510000</td>\n",
       "      <td>12.998000</td>\n",
       "      <td>47.000000</td>\n",
       "    </tr>\n",
       "    <tr>\n",
       "      <th>75%</th>\n",
       "      <td>0.0</td>\n",
       "      <td>1.0</td>\n",
       "      <td>17.000000</td>\n",
       "      <td>5.000000</td>\n",
       "      <td>10.660000</td>\n",
       "      <td>13.635000</td>\n",
       "      <td>0.690000</td>\n",
       "      <td>19.250775</td>\n",
       "      <td>76.000000</td>\n",
       "    </tr>\n",
       "    <tr>\n",
       "      <th>max</th>\n",
       "      <td>0.0</td>\n",
       "      <td>1.0</td>\n",
       "      <td>23.000000</td>\n",
       "      <td>6.000000</td>\n",
       "      <td>18.860000</td>\n",
       "      <td>22.725000</td>\n",
       "      <td>1.000000</td>\n",
       "      <td>36.997400</td>\n",
       "      <td>219.000000</td>\n",
       "    </tr>\n",
       "  </tbody>\n",
       "</table>\n",
       "</div>"
      ],
      "text/plain": [
       "        year  month        hour     weekday        temp   feel_temp  \\\n",
       "count  200.0  200.0  200.000000  200.000000  200.000000  200.000000   \n",
       "mean     0.0    1.0   11.455000    3.160000    9.389000   11.689600   \n",
       "std      0.0    0.0    6.832377    2.235933    3.713618    4.580663   \n",
       "min      0.0    1.0    0.000000    0.000000    3.280000    3.030000   \n",
       "25%      0.0    1.0    6.000000    1.000000    6.560000    9.090000   \n",
       "50%      0.0    1.0   11.000000    3.000000    8.200000   10.985000   \n",
       "75%      0.0    1.0   17.000000    5.000000   10.660000   13.635000   \n",
       "max      0.0    1.0   23.000000    6.000000   18.860000   22.725000   \n",
       "\n",
       "         humidity   windspeed       count  \n",
       "count  170.000000  200.000000  200.000000  \n",
       "mean     0.559059   13.745452   53.950000  \n",
       "std      0.176368    8.637962   48.931472  \n",
       "min      0.280000    0.000000    1.000000  \n",
       "25%      0.422500    7.001500   12.000000  \n",
       "50%      0.510000   12.998000   47.000000  \n",
       "75%      0.690000   19.250775   76.000000  \n",
       "max      1.000000   36.997400  219.000000  "
      ]
     },
     "execution_count": 4,
     "metadata": {},
     "output_type": "execute_result"
    }
   ],
   "source": [
    "df.describe()"
   ]
  },
  {
   "cell_type": "markdown",
   "metadata": {},
   "source": [
    "### Clue 1: 📜 A Note from the Keeper of the Winds 🌫️💨\n",
    "\n",
    "\"Traveler, the first clue hides in the mist! To uncover it, follow these steps carefully:\"\n",
    "\\\n",
    "\n",
    "1. Find the moment when the wind was strongest during misty weather. \\\n",
    "2. Look at that row and gather the numbers hidden in the hour and count columns. \\\n",
    "3. Add 65 to each number and turn them into letters. but divide count by 3. \\\n",
    "4. Arrange them in the order given by hour and count to reveal the hidden phrase! \\\n",
    "\n",
    "\"Solve this mystery, and you will take the first step toward unlocking the secret URL!\" 🔐✨\n",
    "\n",
    "🐵 Monkey Mode Activated! 🍌\n",
    "\n",
    "1. Ooo ooo! Find rows where weather is ‘mist’! 🌫️🐒 \\\n",
    "2. Pick the row with the BIGGEST windspeed! 💨💨 \\\n",
    "3. Grab hour and count columns and divide count by 3! 🕒🔢 \\\n",
    "4. Add 65 to each number! ➕6️⃣5️⃣ \\\n",
    "5. Turn those numbers into LETTERS! 🔠🐵 \\\n",
    "\n",
    "✨ Ooo OOO! Secret phrase unlocked! 🚀🔑\n"
   ]
  },
  {
   "cell_type": "code",
   "execution_count": null,
   "metadata": {},
   "outputs": [],
   "source": [
    "#  Find the moment when the wind was strongest during misty weather.\n",
    "max_wind_speed_in_misty_weather = df[df[\"...\"] == \"...\"][\"...\"].[...]() # (fill methods and answers in [...])\n",
    "target_row = df[(df[...] == ...) & (df[...] == max_wind_speed_in_misty_weather)]\n",
    "\n",
    "# get the hour and count of the target row\n",
    "hour, count = target_row[...].values[0] + 65, target_row[...].values[0]//3 + 65\n",
    "\n",
    "# just change the hour and count to the corresponding ascii character\n",
    "result = str(chr(hour)) + str(chr(count))\n",
    "\n",
    "# concatenate the result to the url\n",
    "url = url + result\n",
    "print(\"your current url is: \", url)"
   ]
  },
  {
   "cell_type": "markdown",
   "metadata": {},
   "source": [
    "### 🔍 Clue 2: The Hidden Words in the Weather 🌦️\n",
    "\n",
    "The next piece of the puzzle lies in the unique weathers that were observed! To find the clue:\n",
    "\n",
    "1. Look at all the different weather conditions recorded in the dataset.\n",
    "2. Take the last two word of each unique weather type you find.\n",
    "3. The combination of these words will lead you to the next step in your adventure!\n",
    "4. ✨ Unravel this mystery, and you'll be one step closer to the secret URL! 🚀🔐\n",
    "\n",
    "Monkey Mode 🐵🍌\n",
    "\n",
    "1. Ooo ooo! Find all the different weather types! 🌦️\n",
    "2. Get the LAST TWO word of each one! 🦁🐒\n",
    "3. Combine the words to move closer to the secret! 🔐✨\n",
    "\n",
    "🍌 Monkey magic will lead you to the next clue! 🐵\n"
   ]
  },
  {
   "cell_type": "code",
   "execution_count": null,
   "metadata": {},
   "outputs": [],
   "source": [
    "# get the unique values of the target column\n",
    "unique_values = ...\n",
    "\n",
    "# get the last two characters of each unique value\n",
    "last_two_character = ...\n",
    "\n",
    "# join all the last two characters\n",
    "result = ...\n",
    "\n",
    "# concatenate the result to the url\n",
    "url = url + result\n",
    "\n",
    "print(\"your current url is: \", url)"
   ]
  },
  {
   "cell_type": "markdown",
   "metadata": {},
   "source": [
    "## Clue 3: The missing Humidity 🌡️\n",
    "\n",
    "Someone tried to hide a secret message in the humidity levels! you need to see this!!\n"
   ]
  },
  {
   "cell_type": "code",
   "execution_count": null,
   "metadata": {},
   "outputs": [],
   "source": [
    "df[\"humidity\"].plot()"
   ]
  },
  {
   "cell_type": "code",
   "execution_count": null,
   "metadata": {},
   "outputs": [],
   "source": [
    "df[\"humidity\"].mean()"
   ]
  },
  {
   "cell_type": "markdown",
   "metadata": {},
   "source": [
    "Missing value in the `humidity` column make their average weird. \\\n",
    "Find the missing numbers and combine them to reveal the next part of the secret URL!\n",
    "\n",
    "Monkey Mode 🐵🍌\n",
    "\n",
    "1. Ooo ooo! Find the missing numbers in the humidity column! 🌡️🐒\n",
    "2. Combine the missing numbers to reveal the next part of the secret URL! 🔐✨\n",
    "\n",
    "🍌 This is too easy for us. You too you also can do it!🐒🐒🐵\n"
   ]
  },
  {
   "cell_type": "code",
   "execution_count": null,
   "metadata": {},
   "outputs": [],
   "source": [
    "# get the number of missing values in humidity column\n",
    "missing_values = ...\n",
    "\n",
    "# concatenate the missing values to the url\n",
    "url = url + ...(missing_values)\n",
    "\n",
    "print(\"your current url is: \", url)"
   ]
  },
  {
   "cell_type": "markdown",
   "metadata": {},
   "source": [
    "### Clue 4: Make the Hum(idity)an back!\n",
    "\n",
    "Yes! we got a number of missing humidity from the previous clue. Now, we need to make it back to the original data. This is too hard? [Don't worry about it](https://www.google.com/url?sa=i&url=https%3A%2F%2Fwww.linkedin.com%2Fposts%2Favipathak99_coursera-genai-llm-activity-7087786100156448771-kQf7&psig=AOvVaw0EUk8ShOVQE_RbwPwe8Acj&ust=1738776320023000&source=images&cd=vfe&opi=89978449&ved=0CBQQjRxqFwoTCIDN9t7EqosDFQAAAAAdAAAAABAE) you can do it without my help.\n"
   ]
  },
  {
   "cell_type": "code",
   "execution_count": null,
   "metadata": {},
   "outputs": [],
   "source": [
    "# do it by yourself\n",
    "# create function that interpolate the missing values in humidity column\n",
    "\n",
    "# loop through the humidity column\n",
    "for i in ...:\n",
    "    \n",
    "    # check if the value is missing\n",
    "    if ...: # checking by using pd.isnull() function\n",
    "        # if the value is missing, interpolate it with the average of the previous and next value\n",
    "        ...\n"
   ]
  },
  {
   "cell_type": "code",
   "execution_count": null,
   "metadata": {},
   "outputs": [],
   "source": [
    "df[\"humidity\"].plot()"
   ]
  },
  {
   "cell_type": "markdown",
   "metadata": {},
   "source": [
    "now, find the average of the humidity column and add it to the missing value. Then, you will find the next part of the secret URL!\n"
   ]
  },
  {
   "cell_type": "code",
   "execution_count": null,
   "metadata": {},
   "outputs": [],
   "source": [
    "average_humidity = ...\n",
    "\n",
    "average_humidity"
   ]
  },
  {
   "cell_type": "markdown",
   "metadata": {},
   "source": [
    "oh, I forgot to tell you. We only use first 3 decimal places of the average value.\n"
   ]
  },
  {
   "cell_type": "code",
   "execution_count": null,
   "metadata": {},
   "outputs": [],
   "source": [
    "# get first 3 decimal of the average humidity\n",
    "result = str(int(average_humidity*1000))\n",
    "\n",
    "# concatenate the result to the url\n",
    "url = url + result\n",
    "\n",
    "print(\"your current url is: \", url)"
   ]
  },
  {
   "cell_type": "markdown",
   "metadata": {},
   "source": [
    "### Clue 5: The Secret Message from the different weathers 🌦️\n",
    "\n",
    "We almost there! Find an average of each weather type in the dataset. Then use the ascii number of the sum between `clear` weather and difference of `misty` and `rain` weather to reveal the next part of the secret URL!\n",
    "\n",
    "Monkey Mode 🐵🍌\n",
    "\n",
    "1. Find the average of each weather type! 🌦️🐒\n",
    "2. Use the ASCII number of the sum between `clear` weather and difference of `misty` and `rain` weather! 🔢🔠\n",
    "3. Combine the numbers to reveal the next part of the secret URL! 🔐✨\n",
    "\n",
    "🍌 You're almost there! Keep going! 🚀🐒🐒\n"
   ]
  },
  {
   "cell_type": "code",
   "execution_count": null,
   "metadata": {},
   "outputs": [],
   "source": [
    "# use groupby to get the average count of each weather\n",
    "average_count = ...\n",
    "\n",
    "# get the average count of clear, misty, and rain weather\n",
    "clear_avg = ...\n",
    "misty_avg = ...\n",
    "rain_avg = ...\n",
    "\n",
    "\n",
    "# get the groupby_character follow by instructions\n",
    "groupby_character = ...\n",
    "\n",
    "# concatenate the groupby_character to the url\n",
    "url = url + groupby_character\n",
    "\n",
    "print(\"your current url is: \", url)"
   ]
  },
  {
   "cell_type": "code",
   "execution_count": null,
   "metadata": {},
   "outputs": [],
   "source": [
    "print(\"your final url is: \", url)"
   ]
  },
  {
   "cell_type": "markdown",
   "metadata": {},
   "source": [
    "### Clue 6: Fusion! 🌌\n",
    "\n",
    "You've made it this far! Now, You just need to combine the dataframe and and get the standard deviation of `Number of employees` column. then put it in `decode` tools to reveal the final part of the secret URL!\n",
    "\n",
    "Monkey Mode 🐵🍌\n",
    "\n",
    "1. Combine the dataframe and get the standard deviation of `Number of employees` column! 🌌🐒\n",
    "2. Use the standard deviation as a phrase to unlock the final part of the secret URL! 🔐✨\n",
    "3. Put the phrase in the `decode` tools to reveal the final part of the secret URL! 🚀🔑\n",
    "\n",
    "🍌 Don't be afraid.We will stay with you! 🙊🙉🙊🙉\n"
   ]
  },
  {
   "cell_type": "code",
   "execution_count": null,
   "metadata": {},
   "outputs": [],
   "source": [
    "organizations_1 = pd.read_csv('organizations-1.csv')\n",
    "organizations_2 = pd.read_csv('organizations-2.csv')\n",
    "organizations_3 = pd.read_csv('organizations-3.csv')"
   ]
  },
  {
   "cell_type": "code",
   "execution_count": null,
   "metadata": {},
   "outputs": [],
   "source": [
    "organizations_1.head()"
   ]
  },
  {
   "cell_type": "code",
   "execution_count": null,
   "metadata": {},
   "outputs": [],
   "source": [
    "def decode(value: float):\n",
    "    value = str(int(value))\n",
    "    \n",
    "    return chr(int(value[:2]) + int(value[2:]))"
   ]
  },
  {
   "cell_type": "code",
   "execution_count": null,
   "metadata": {},
   "outputs": [],
   "source": [
    "# concat them together and get standard deviation of the column \"employees\"\n",
    "...\n",
    "# get the standard deviation of the column \"employees\"\n",
    "...\n",
    "# show standard deviation\n",
    "..."
   ]
  },
  {
   "cell_type": "code",
   "execution_count": null,
   "metadata": {},
   "outputs": [],
   "source": [
    "url = url + decode(...) # your variable that contains the standard deviation\n",
    "\n",
    "print(\"your current url is: \", url)"
   ]
  },
  {
   "cell_type": "markdown",
   "metadata": {},
   "source": [
    "## Final Clue: Pokemon configuration 🐱‍👤\n",
    "\n",
    "You just need to add a new column call `stat` that will have a condition below:\n",
    "\n",
    "1. stat calculate from `Attack` + `Defense` + `Speed` + `Sp. Atk` + `Sp. Def` + `HP`\n",
    "1. If it have type `Normal`, `Grass`, `Fire` or `Water`. Attack will increase by 10%.\n",
    "1. If it have type `Electric`, `Ice`, `Fighting` or `Poison`. Defense will increase by 10%.\n",
    "1. If it have type `Ground`, `Flying`, `Psychic` or `Bug`. Speed will increase by 10%.\n",
    "1. If it have type `Rock`, `Ghost`, `Dragon` or `Dark`. Sp. Atk will increase by 10%.\n",
    "1. If It have `speed` more than 100. Sp. Def will increase by 50%.\n",
    "1. If it is a `legendary` pokemon. HP will increase by 100.\n",
    "\n",
    "Then, group by `Type 1` and find the average of `stat` column. This Clue is **important** you must do it, but I will give you the final part of the secret URL. The final part of the secret URL is `pikachu`.\n"
   ]
  },
  {
   "cell_type": "code",
   "execution_count": null,
   "metadata": {},
   "outputs": [],
   "source": [
    "pokemon = pd.read_csv(\"pokemon.csv\")\n",
    "pokemon.head()"
   ]
  },
  {
   "cell_type": "code",
   "execution_count": null,
   "metadata": {},
   "outputs": [],
   "source": [
    "# complete the Final Clue\n"
   ]
  },
  {
   "cell_type": "code",
   "execution_count": null,
   "metadata": {},
   "outputs": [],
   "source": [
    "url = url + \"pikachu\"\n",
    "\n",
    "print(\"your final url is: \", url)"
   ]
  },
  {
   "cell_type": "markdown",
   "metadata": {},
   "source": [
    "### Final Mission (Optional)\n",
    "\n",
    "Access the secret URL and complete your quest! 🚀🔓\n",
    "\n",
    "Question: What is the final secret URL? \\\n",
    "Ans:\n"
   ]
  },
  {
   "cell_type": "markdown",
   "metadata": {},
   "source": [
    "---\n",
    "\n",
    "Enjoy the adventure! 🌟\n"
   ]
  },
  {
   "cell_type": "markdown",
   "metadata": {},
   "source": []
  }
 ],
 "metadata": {
  "kernelspec": {
   "display_name": "dataModel-course",
   "language": "python",
   "name": "python3"
  },
  "language_info": {
   "codemirror_mode": {
    "name": "ipython",
    "version": 3
   },
   "file_extension": ".py",
   "mimetype": "text/x-python",
   "name": "python",
   "nbconvert_exporter": "python",
   "pygments_lexer": "ipython3",
   "version": "3.12.2"
  }
 },
 "nbformat": 4,
 "nbformat_minor": 2
}
