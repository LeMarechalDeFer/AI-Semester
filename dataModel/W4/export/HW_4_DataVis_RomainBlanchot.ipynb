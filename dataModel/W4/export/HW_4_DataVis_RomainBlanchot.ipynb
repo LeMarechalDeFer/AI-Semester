{
  "cells": [
    {
      "cell_type": "markdown",
      "metadata": {
        "id": "3V1ElDaoyK4_"
      },
      "source": [
        "# Lab 4: Data Visualization and EDA\n",
        "\n",
        "#### CPE232 Data Models\n",
        "\n",
        "---"
      ]
    },
    {
      "cell_type": "markdown",
      "metadata": {
        "id": "GK704HA_yK5B"
      },
      "source": [
        "1. Load all Superstore datasets.\n",
        "\n",
        "*Note: The same datasets used in Lab 3*"
      ]
    },
    {
      "cell_type": "code",
      "execution_count": 2,
      "metadata": {
        "id": "9M5-wxlbyK5B"
      },
      "outputs": [
        {
          "name": "stdout",
          "output_type": "stream",
          "text": [
            "   Row ID        Order ID  Order Date   Ship Date       Ship Mode Customer ID  \\\n",
            "0       1  CA-2016-152156  08/11/2016  11/11/2016    Second Class    CG-12520   \n",
            "1       2  CA-2016-152156  08/11/2016  11/11/2016    Second Class    CG-12520   \n",
            "2       3  CA-2016-138688  12/06/2016  16/06/2016    Second Class    DV-13045   \n",
            "3       4  US-2015-108966  11/10/2015  18/10/2015  Standard Class    SO-20335   \n",
            "4       5  US-2015-108966  11/10/2015  18/10/2015  Standard Class    SO-20335   \n",
            "\n",
            "     Customer Name    Segment        Country             City  ...  \\\n",
            "0      Claire Gute   Consumer  United States        Henderson  ...   \n",
            "1      Claire Gute   Consumer  United States        Henderson  ...   \n",
            "2  Darrin Van Huff  Corporate  United States      Los Angeles  ...   \n",
            "3    Sean ODonnell   Consumer  United States  Fort Lauderdale  ...   \n",
            "4    Sean ODonnell   Consumer  United States  Fort Lauderdale  ...   \n",
            "\n",
            "  Postal Code  Region       Product ID         Category Sub-Category  \\\n",
            "0       42420   South  FUR-BO-10001798        Furniture    Bookcases   \n",
            "1       42420   South  FUR-CH-10000454        Furniture       Chairs   \n",
            "2       90036    West  OFF-LA-10000240  Office Supplies       Labels   \n",
            "3       33311   South  FUR-TA-10000577        Furniture       Tables   \n",
            "4       33311   South  OFF-ST-10000760  Office Supplies      Storage   \n",
            "\n",
            "                                        Product Name     Sales  Quantity  \\\n",
            "0                  Bush Somerset Collection Bookcase  261.9600         2   \n",
            "1  Hon Deluxe Fabric Upholstered Stacking Chairs ...  731.9400         3   \n",
            "2  Self-Adhesive Address Labels for Typewriters b...   14.6200         2   \n",
            "3      Bretford CR4500 Series Slim Rectangular Table  957.5775         5   \n",
            "4                      Eldon Fold N Roll Cart System   22.3680         2   \n",
            "\n",
            "   Discount    Profit  \n",
            "0      0.00   41.9136  \n",
            "1      0.00  219.5820  \n",
            "2      0.00    6.8714  \n",
            "3      0.45 -383.0310  \n",
            "4      0.20    2.5164  \n",
            "\n",
            "[5 rows x 21 columns]\n",
            "              Person   Region\n",
            "0      Anna Andreadi     West\n",
            "1        Chuck Magee     East\n",
            "2     Kelly Williams  Central\n",
            "3  Cassandra Brandow    South\n",
            "  Returned        Order ID\n",
            "0      Yes  CA-2017-153822\n",
            "1      Yes  CA-2017-129707\n",
            "2      Yes  CA-2014-152345\n",
            "3      Yes  CA-2015-156440\n",
            "4      Yes  US-2017-155999\n"
          ]
        }
      ],
      "source": [
        "# Write your code here\n",
        "import pandas as pd\n",
        "import numpy as np\n",
        "import matplotlib.pyplot as plt\n",
        "\n",
        "dfOrder = pd.read_csv(\"superstore_order.csv\")\n",
        "dfPeople = pd.read_csv(\"superstore_people.csv\")\n",
        "dfReturn = pd.read_csv(\"superstore_return.csv\")\n",
        "\n",
        "print(dfOrder.head())\n",
        "print(dfPeople.head())\n",
        "print(dfReturn.head())"
      ]
    },
    {
      "cell_type": "markdown",
      "metadata": {
        "id": "eSbZ_QZxyK5C"
      },
      "source": [
        "2. Determine shape of each dataset (print out the results as well).\n"
      ]
    },
    {
      "cell_type": "code",
      "execution_count": 3,
      "metadata": {
        "id": "VNxmhRSiyK5C"
      },
      "outputs": [
        {
          "name": "stdout",
          "output_type": "stream",
          "text": [
            "(8880, 21)\n",
            "(4, 2)\n",
            "(296, 2)\n"
          ]
        }
      ],
      "source": [
        "# Write your code here\n",
        "print(dfOrder.shape)\n",
        "print(dfPeople.shape)\n",
        "print(dfReturn.shape)\n",
        "\n"
      ]
    },
    {
      "cell_type": "markdown",
      "metadata": {
        "id": "xVB-ZfUZyK5C"
      },
      "source": [
        "3. Show information of the dataset.\n"
      ]
    },
    {
      "cell_type": "code",
      "execution_count": 4,
      "metadata": {
        "id": "4n7HJxWXyK5C"
      },
      "outputs": [
        {
          "name": "stdout",
          "output_type": "stream",
          "text": [
            "<class 'pandas.core.frame.DataFrame'>\n",
            "RangeIndex: 8880 entries, 0 to 8879\n",
            "Data columns (total 21 columns):\n",
            " #   Column         Non-Null Count  Dtype  \n",
            "---  ------         --------------  -----  \n",
            " 0   Row ID         8880 non-null   int64  \n",
            " 1   Order ID       8880 non-null   object \n",
            " 2   Order Date     8880 non-null   object \n",
            " 3   Ship Date      8880 non-null   object \n",
            " 4   Ship Mode      8880 non-null   object \n",
            " 5   Customer ID    8880 non-null   object \n",
            " 6   Customer Name  8880 non-null   object \n",
            " 7   Segment        8880 non-null   object \n",
            " 8   Country        8880 non-null   object \n",
            " 9   City           8880 non-null   object \n",
            " 10  State          8880 non-null   object \n",
            " 11  Postal Code    8880 non-null   int64  \n",
            " 12  Region         8880 non-null   object \n",
            " 13  Product ID     8880 non-null   object \n",
            " 14  Category       8880 non-null   object \n",
            " 15  Sub-Category   8880 non-null   object \n",
            " 16  Product Name   8880 non-null   object \n",
            " 17  Sales          8880 non-null   float64\n",
            " 18  Quantity       8880 non-null   int64  \n",
            " 19  Discount       8880 non-null   float64\n",
            " 20  Profit         8880 non-null   float64\n",
            "dtypes: float64(3), int64(3), object(15)\n",
            "memory usage: 1.4+ MB\n",
            "None\n",
            "<class 'pandas.core.frame.DataFrame'>\n",
            "RangeIndex: 4 entries, 0 to 3\n",
            "Data columns (total 2 columns):\n",
            " #   Column  Non-Null Count  Dtype \n",
            "---  ------  --------------  ----- \n",
            " 0   Person  4 non-null      object\n",
            " 1   Region  4 non-null      object\n",
            "dtypes: object(2)\n",
            "memory usage: 196.0+ bytes\n",
            "None\n",
            "<class 'pandas.core.frame.DataFrame'>\n",
            "RangeIndex: 296 entries, 0 to 295\n",
            "Data columns (total 2 columns):\n",
            " #   Column    Non-Null Count  Dtype \n",
            "---  ------    --------------  ----- \n",
            " 0   Returned  296 non-null    object\n",
            " 1   Order ID  296 non-null    object\n",
            "dtypes: object(2)\n",
            "memory usage: 4.8+ KB\n",
            "None\n"
          ]
        }
      ],
      "source": [
        "# Write your code here\n",
        "\n",
        "print(dfOrder.info())\n",
        "print(dfPeople.info())\n",
        "print(dfReturn.info())\n",
        "\n",
        "# print(dfOrder.isnull().sum())\n",
        "# print(dfPeople.isnull().sum())\n",
        "# print(dfReturn.isnull().sum())\n"
      ]
    },
    {
      "cell_type": "markdown",
      "metadata": {
        "id": "b7pvNmDkyK5D"
      },
      "source": [
        "4. Are there any missing values? If so, in which column?\n",
        "\n",
        "Ans: No, there are no missing values in any column.\n"
      ]
    },
    {
      "cell_type": "markdown",
      "metadata": {
        "id": "D-X0RVgeyK5D"
      },
      "source": [
        "5.\n",
        "- 5.1 List unique segments\n",
        "- 5.2 List unique segments and their corresponding count\n",
        "- 5.3 Create a pie chart to demonstrate unique segments and their count\n",
        "- 5.4 Briefly describe what could be interpreted from this pie chart\n",
        "\n",
        "*Note: please create additional cells to answer 5.2 - 5.3*"
      ]
    },
    {
      "cell_type": "code",
      "execution_count": 5,
      "metadata": {
        "id": "Rvh9HTv1yK5D"
      },
      "outputs": [
        {
          "name": "stdout",
          "output_type": "stream",
          "text": [
            "Unique segments: ['Consumer' 'Corporate' 'Home Office']\n"
          ]
        }
      ],
      "source": [
        "# Write your code here (5.1)\n",
        "\n",
        "uniqueSegments= dfOrder.Segment.unique()\n",
        "print(\"Unique segments:\", uniqueSegments)\n"
      ]
    },
    {
      "cell_type": "code",
      "execution_count": 28,
      "metadata": {},
      "outputs": [
        {
          "name": "stdout",
          "output_type": "stream",
          "text": [
            "Segment\n",
            "Consumer       4613\n",
            "Corporate      2673\n",
            "Home Office    1594\n",
            "Name: count, dtype: int64\n"
          ]
        }
      ],
      "source": [
        "# 5.2\n",
        "segmentCounts = dfOrder.Segment.value_counts()\n",
        "print(segmentCounts)\n"
      ]
    },
    {
      "cell_type": "code",
      "execution_count": 29,
      "metadata": {},
      "outputs": [
        {
          "data": {
            "image/png": "[encoded data removed]",
            "text/plain": [
              "<Figure size 800x600 with 1 Axes>"
            ]
          },
          "metadata": {},
          "output_type": "display_data"
        }
      ],
      "source": [
        "# 5.3\n",
        "plt.figure(figsize=(8, 6)) \n",
        "plt.pie(segmentCounts, labels=segmentCounts.index, autopct=\"%1.1f%%\")\n",
        "plt.title(\"Segment Distribution\")\n",
        "plt.show()\n",
        "\n"
      ]
    },
    {
      "cell_type": "markdown",
      "metadata": {
        "id": "H86laaSXyK5D"
      },
      "source": [
        "Answer for the question 5.4\n",
        "\n",
        "Ans: The Consumer segment dominates (51.9%), indicating a strong focus on retail customers. Corporate (30.1%) and Home Office (18.0%) suggest opportunities for B2B and freelancer-targeted strategies. The company could optimize marketing efforts for both individual and business clients"
      ]
    },
    {
      "cell_type": "markdown",
      "metadata": {
        "id": "siHfjQuxyK5D"
      },
      "source": [
        "6.\n",
        "- 6.1 List unique states\n",
        "- 6.2 List top-10 unique states and their corresponding count\n",
        "- 6.3 Create a bar chart (vertical) to demonstrate the count of top-10 unique states\n",
        "- 6.4 Based on 6.2, also include the total sales of these states (show your result as a dataframe)\n",
        "- 6.5 Using the result from 6.4, if you were the owner of this superstore, what information could be interpreted from this result?\n",
        "\n",
        "*Note: please create additional cells to answer 6.2 - 6.4*"
      ]
    },
    {
      "cell_type": "code",
      "execution_count": 20,
      "metadata": {
        "id": "L3wKPXNuyK5D"
      },
      "outputs": [
        {
          "data": {
            "text/plain": [
              "array(['Kentucky', 'California', 'Florida', 'North Carolina',\n",
              "       'Washington', 'Texas', 'Wisconsin', 'Utah', 'Nebraska',\n",
              "       'Pennsylvania', 'Illinois', 'Minnesota', 'Michigan', 'Delaware',\n",
              "       'Indiana', 'New York', 'Arizona', 'Virginia', 'Tennessee',\n",
              "       'Alabama', 'South Carolina', 'Oregon', 'Colorado', 'Iowa', 'Ohio',\n",
              "       'Missouri', 'Oklahoma', 'New Mexico', 'Louisiana', 'Connecticut',\n",
              "       'New Jersey', 'Massachusetts', 'Georgia', 'Nevada', 'Rhode Island',\n",
              "       'Mississippi', 'Arkansas', 'Montana', 'New Hampshire', 'Maryland',\n",
              "       'District of Columbia', 'Kansas', 'Vermont', 'Maine',\n",
              "       'South Dakota', 'Idaho', 'North Dakota', 'Wyoming',\n",
              "       'West Virginia'], dtype=object)"
            ]
          },
          "execution_count": 20,
          "metadata": {},
          "output_type": "execute_result"
        }
      ],
      "source": [
        "# Write your code here (6.1)\n",
        "# 6.1: List unique states\n",
        "\n",
        "uniqueStates = dfOrder['State'].unique()\n",
        "uniqueStates\n"
      ]
    },
    {
      "cell_type": "code",
      "execution_count": 21,
      "metadata": {},
      "outputs": [
        {
          "data": {
            "text/html": [
              "<div>\n",
              "<style scoped>\n",
              "    .dataframe tbody tr th:only-of-type {\n",
              "        vertical-align: middle;\n",
              "    }\n",
              "\n",
              "    .dataframe tbody tr th {\n",
              "        vertical-align: top;\n",
              "    }\n",
              "\n",
              "    .dataframe thead th {\n",
              "        text-align: right;\n",
              "    }\n",
              "</style>\n",
              "<table border=\"1\" class=\"dataframe\">\n",
              "  <thead>\n",
              "    <tr style=\"text-align: right;\">\n",
              "      <th></th>\n",
              "      <th>State</th>\n",
              "      <th>Count</th>\n",
              "    </tr>\n",
              "  </thead>\n",
              "  <tbody>\n",
              "    <tr>\n",
              "      <th>0</th>\n",
              "      <td>California</td>\n",
              "      <td>1754</td>\n",
              "    </tr>\n",
              "    <tr>\n",
              "      <th>1</th>\n",
              "      <td>New York</td>\n",
              "      <td>1001</td>\n",
              "    </tr>\n",
              "    <tr>\n",
              "      <th>2</th>\n",
              "      <td>Texas</td>\n",
              "      <td>860</td>\n",
              "    </tr>\n",
              "    <tr>\n",
              "      <th>3</th>\n",
              "      <td>Pennsylvania</td>\n",
              "      <td>531</td>\n",
              "    </tr>\n",
              "    <tr>\n",
              "      <th>4</th>\n",
              "      <td>Washington</td>\n",
              "      <td>452</td>\n",
              "    </tr>\n",
              "    <tr>\n",
              "      <th>5</th>\n",
              "      <td>Illinois</td>\n",
              "      <td>427</td>\n",
              "    </tr>\n",
              "    <tr>\n",
              "      <th>6</th>\n",
              "      <td>Ohio</td>\n",
              "      <td>396</td>\n",
              "    </tr>\n",
              "    <tr>\n",
              "      <th>7</th>\n",
              "      <td>Florida</td>\n",
              "      <td>339</td>\n",
              "    </tr>\n",
              "    <tr>\n",
              "      <th>8</th>\n",
              "      <td>Michigan</td>\n",
              "      <td>230</td>\n",
              "    </tr>\n",
              "    <tr>\n",
              "      <th>9</th>\n",
              "      <td>North Carolina</td>\n",
              "      <td>229</td>\n",
              "    </tr>\n",
              "  </tbody>\n",
              "</table>\n",
              "</div>"
            ],
            "text/plain": [
              "            State  Count\n",
              "0      California   1754\n",
              "1        New York   1001\n",
              "2           Texas    860\n",
              "3    Pennsylvania    531\n",
              "4      Washington    452\n",
              "5        Illinois    427\n",
              "6            Ohio    396\n",
              "7         Florida    339\n",
              "8        Michigan    230\n",
              "9  North Carolina    229"
            ]
          },
          "execution_count": 21,
          "metadata": {},
          "output_type": "execute_result"
        }
      ],
      "source": [
        "# 6.2\n",
        "\n",
        "top10States = dfOrder['State'].value_counts().head(10).reset_index()\n",
        "top10States.columns = ['State', 'Count']\n",
        "top10States\n"
      ]
    },
    {
      "cell_type": "code",
      "execution_count": 22,
      "metadata": {},
      "outputs": [
        {
          "data": {
            "image/png": "[encoded data removed]",
            "text/plain": [
              "<Figure size 640x480 with 1 Axes>"
            ]
          },
          "metadata": {},
          "output_type": "display_data"
        }
      ],
      "source": [
        "# 6?3\n",
        "plt.bar(top10States['State'], top10States['Count'])\n",
        "\n",
        "plt.xlabel('State')\n",
        "plt.ylabel('Count')\n",
        "plt.title('Top-10 States by Count')\n",
        "plt.xticks(rotation=45)  \n",
        "\n",
        "plt.show()"
      ]
    },
    {
      "cell_type": "code",
      "execution_count": 27,
      "metadata": {},
      "outputs": [
        {
          "data": {
            "text/html": [
              "<div>\n",
              "<style scoped>\n",
              "    .dataframe tbody tr th:only-of-type {\n",
              "        vertical-align: middle;\n",
              "    }\n",
              "\n",
              "    .dataframe tbody tr th {\n",
              "        vertical-align: top;\n",
              "    }\n",
              "\n",
              "    .dataframe thead th {\n",
              "        text-align: right;\n",
              "    }\n",
              "</style>\n",
              "<table border=\"1\" class=\"dataframe\">\n",
              "  <thead>\n",
              "    <tr style=\"text-align: right;\">\n",
              "      <th></th>\n",
              "      <th>State</th>\n",
              "      <th>Count</th>\n",
              "      <th>Total Sales</th>\n",
              "    </tr>\n",
              "  </thead>\n",
              "  <tbody>\n",
              "    <tr>\n",
              "      <th>0</th>\n",
              "      <td>California</td>\n",
              "      <td>1754</td>\n",
              "      <td>399195.4555</td>\n",
              "    </tr>\n",
              "    <tr>\n",
              "      <th>1</th>\n",
              "      <td>New York</td>\n",
              "      <td>1001</td>\n",
              "      <td>274866.8190</td>\n",
              "    </tr>\n",
              "    <tr>\n",
              "      <th>2</th>\n",
              "      <td>Texas</td>\n",
              "      <td>860</td>\n",
              "      <td>147855.0282</td>\n",
              "    </tr>\n",
              "    <tr>\n",
              "      <th>3</th>\n",
              "      <td>Pennsylvania</td>\n",
              "      <td>531</td>\n",
              "      <td>103852.5210</td>\n",
              "    </tr>\n",
              "    <tr>\n",
              "      <th>4</th>\n",
              "      <td>Washington</td>\n",
              "      <td>452</td>\n",
              "      <td>124497.7780</td>\n",
              "    </tr>\n",
              "    <tr>\n",
              "      <th>5</th>\n",
              "      <td>Illinois</td>\n",
              "      <td>427</td>\n",
              "      <td>71456.1780</td>\n",
              "    </tr>\n",
              "    <tr>\n",
              "      <th>6</th>\n",
              "      <td>Ohio</td>\n",
              "      <td>396</td>\n",
              "      <td>67924.2140</td>\n",
              "    </tr>\n",
              "    <tr>\n",
              "      <th>7</th>\n",
              "      <td>Florida</td>\n",
              "      <td>339</td>\n",
              "      <td>84083.0880</td>\n",
              "    </tr>\n",
              "    <tr>\n",
              "      <th>8</th>\n",
              "      <td>Michigan</td>\n",
              "      <td>230</td>\n",
              "      <td>62147.6960</td>\n",
              "    </tr>\n",
              "    <tr>\n",
              "      <th>9</th>\n",
              "      <td>North Carolina</td>\n",
              "      <td>229</td>\n",
              "      <td>49962.1580</td>\n",
              "    </tr>\n",
              "  </tbody>\n",
              "</table>\n",
              "</div>"
            ],
            "text/plain": [
              "            State  Count  Total Sales\n",
              "0      California   1754  399195.4555\n",
              "1        New York   1001  274866.8190\n",
              "2           Texas    860  147855.0282\n",
              "3    Pennsylvania    531  103852.5210\n",
              "4      Washington    452  124497.7780\n",
              "5        Illinois    427   71456.1780\n",
              "6            Ohio    396   67924.2140\n",
              "7         Florida    339   84083.0880\n",
              "8        Michigan    230   62147.6960\n",
              "9  North Carolina    229   49962.1580"
            ]
          },
          "execution_count": 27,
          "metadata": {},
          "output_type": "execute_result"
        }
      ],
      "source": [
        "# 6.4\n",
        "\n",
        "filteredDf = dfOrder[dfOrder['State'].isin(top10States['State'])]\n",
        "\n",
        "salesByState = filteredDf.groupby('State')['Sales'].sum().reset_index()\n",
        "salesByState.columns = ['State', 'Total Sales']\n",
        "\n",
        "top10statesSales = pd.merge(top10States, salesByState, on='State')\n",
        "top10statesSales"
      ]
    },
    {
      "cell_type": "markdown",
      "metadata": {
        "id": "hJoRCGkJyK5E"
      },
      "source": [
        "Answer for the question 6.5\n",
        "\n",
        "Ans: California, New York, and Texas drive the highest sales and order counts, making them prime targets for further investment. States like Pennsylvania and Washington also show solid performance, suggesting potential for growth. Lower average order values in some states indicate opportunities for upselling, targeted marketing, or product mix adjustments to boost revenue."
      ]
    },
    {
      "cell_type": "markdown",
      "metadata": {
        "id": "y5_zmjQdyK5E"
      },
      "source": [
        "7.\n",
        "- 7.1 List unique categories\n",
        "- 7.2 Create a bar chart (horizontal) to demonstrate the proportion of these categories\n",
        "- 7.3 Compute the ratio of these categories in percentage and print the results\n",
        "\n",
        "*Note: please create additional cells to answer 7.2 - 7.3*"
      ]
    },
    {
      "cell_type": "code",
      "execution_count": 31,
      "metadata": {
        "id": "yvtw57pOyK5E"
      },
      "outputs": [
        {
          "data": {
            "text/plain": [
              "array(['Furniture', 'Office Supplies', 'Technology'], dtype=object)"
            ]
          },
          "execution_count": 31,
          "metadata": {},
          "output_type": "execute_result"
        }
      ],
      "source": [
        "# Write your code here (7.1)\n",
        "uniqueCategories = dfOrder['Category'].unique()\n",
        "uniqueCategories"
      ]
    },
    {
      "cell_type": "code",
      "execution_count": 32,
      "metadata": {},
      "outputs": [
        {
          "data": {
            "image/png": "[encoded data removed]",
            "text/plain": [
              "<Figure size 1000x600 with 1 Axes>"
            ]
          },
          "metadata": {},
          "output_type": "display_data"
        }
      ],
      "source": [
        "# 7.2\n",
        "\n",
        "categoryCounts = dfOrder['Category'].value_counts()\n",
        "\n",
        "plt.figure(figsize=(10, 6))\n",
        "plt.barh(categoryCounts.index, categoryCounts.values)\n",
        "plt.xlabel('Count')\n",
        "plt.ylabel('Category')\n",
        "plt.title('Proportion of Categories')\n",
        "plt.show()\n"
      ]
    },
    {
      "cell_type": "code",
      "execution_count": 33,
      "metadata": {},
      "outputs": [
        {
          "data": {
            "text/html": [
              "<div>\n",
              "<style scoped>\n",
              "    .dataframe tbody tr th:only-of-type {\n",
              "        vertical-align: middle;\n",
              "    }\n",
              "\n",
              "    .dataframe tbody tr th {\n",
              "        vertical-align: top;\n",
              "    }\n",
              "\n",
              "    .dataframe thead th {\n",
              "        text-align: right;\n",
              "    }\n",
              "</style>\n",
              "<table border=\"1\" class=\"dataframe\">\n",
              "  <thead>\n",
              "    <tr style=\"text-align: right;\">\n",
              "      <th></th>\n",
              "      <th>Category</th>\n",
              "      <th>Percentage</th>\n",
              "    </tr>\n",
              "  </thead>\n",
              "  <tbody>\n",
              "    <tr>\n",
              "      <th>0</th>\n",
              "      <td>Office Supplies</td>\n",
              "      <td>60.360360</td>\n",
              "    </tr>\n",
              "    <tr>\n",
              "      <th>1</th>\n",
              "      <td>Furniture</td>\n",
              "      <td>21.171171</td>\n",
              "    </tr>\n",
              "    <tr>\n",
              "      <th>2</th>\n",
              "      <td>Technology</td>\n",
              "      <td>18.468468</td>\n",
              "    </tr>\n",
              "  </tbody>\n",
              "</table>\n",
              "</div>"
            ],
            "text/plain": [
              "          Category  Percentage\n",
              "0  Office Supplies   60.360360\n",
              "1        Furniture   21.171171\n",
              "2       Technology   18.468468"
            ]
          },
          "execution_count": 33,
          "metadata": {},
          "output_type": "execute_result"
        }
      ],
      "source": [
        "# 7.3\n",
        "\n",
        "categoryRatios = (categoryCounts / categoryCounts.sum()) * 100\n",
        "categoryRatios = categoryRatios.reset_index()\n",
        "categoryRatios.columns = ['Category', 'Percentage']\n",
        "\n",
        "categoryRatios\n"
      ]
    },
    {
      "cell_type": "markdown",
      "metadata": {
        "id": "N-3k0N_byK5E"
      },
      "source": [
        "8. Update the type of all columns that contain dates to *datetime* and show information after an update."
      ]
    },
    {
      "cell_type": "code",
      "execution_count": 36,
      "metadata": {
        "id": "r-yW8m1OyK5E"
      },
      "outputs": [
        {
          "name": "stdout",
          "output_type": "stream",
          "text": [
            "<class 'pandas.core.frame.DataFrame'>\n",
            "RangeIndex: 8880 entries, 0 to 8879\n",
            "Data columns (total 21 columns):\n",
            " #   Column         Non-Null Count  Dtype         \n",
            "---  ------         --------------  -----         \n",
            " 0   Row ID         8880 non-null   int64         \n",
            " 1   Order ID       8880 non-null   object        \n",
            " 2   Order Date     3611 non-null   datetime64[ns]\n",
            " 3   Ship Date      3477 non-null   datetime64[ns]\n",
            " 4   Ship Mode      8880 non-null   object        \n",
            " 5   Customer ID    8880 non-null   object        \n",
            " 6   Customer Name  8880 non-null   object        \n",
            " 7   Segment        8880 non-null   object        \n",
            " 8   Country        8880 non-null   object        \n",
            " 9   City           8880 non-null   object        \n",
            " 10  State          8880 non-null   object        \n",
            " 11  Postal Code    8880 non-null   int64         \n",
            " 12  Region         8880 non-null   object        \n",
            " 13  Product ID     8880 non-null   object        \n",
            " 14  Category       8880 non-null   object        \n",
            " 15  Sub-Category   8880 non-null   object        \n",
            " 16  Product Name   8880 non-null   object        \n",
            " 17  Sales          8880 non-null   float64       \n",
            " 18  Quantity       8880 non-null   int64         \n",
            " 19  Discount       8880 non-null   float64       \n",
            " 20  Profit         8880 non-null   float64       \n",
            "dtypes: datetime64[ns](2), float64(3), int64(3), object(13)\n",
            "memory usage: 1.4+ MB\n"
          ]
        }
      ],
      "source": [
        "for col in dfOrder.columns:\n",
        "    if 'Date' in col:\n",
        "        dfOrder[col] = pd.to_datetime(dfOrder[col], errors='coerce')\n",
        "        \n",
        "dfOrder.info()"
      ]
    },
    {
      "cell_type": "markdown",
      "metadata": {
        "id": "VkQQ3aHHyK5E"
      },
      "source": [
        "9. Create a new column \"Processing time day\" to show number of days taken to ship an order and show your result in a dataframe format.\n",
        "\n",
        "*Hint: The duration starts as soon as the item has been ordered and ends once the order has successfully shipped.*"
      ]
    },
    {
      "cell_type": "code",
      "execution_count": 38,
      "metadata": {
        "id": "peNFx2VkyK5E"
      },
      "outputs": [
        {
          "data": {
            "text/html": [
              "<div>\n",
              "<style scoped>\n",
              "    .dataframe tbody tr th:only-of-type {\n",
              "        vertical-align: middle;\n",
              "    }\n",
              "\n",
              "    .dataframe tbody tr th {\n",
              "        vertical-align: top;\n",
              "    }\n",
              "\n",
              "    .dataframe thead th {\n",
              "        text-align: right;\n",
              "    }\n",
              "</style>\n",
              "<table border=\"1\" class=\"dataframe\">\n",
              "  <thead>\n",
              "    <tr style=\"text-align: right;\">\n",
              "      <th></th>\n",
              "      <th>Order ID</th>\n",
              "      <th>Order Date</th>\n",
              "      <th>Ship Date</th>\n",
              "      <th>Processing time day</th>\n",
              "    </tr>\n",
              "  </thead>\n",
              "  <tbody>\n",
              "    <tr>\n",
              "      <th>0</th>\n",
              "      <td>CA-2016-152156</td>\n",
              "      <td>2016-08-11</td>\n",
              "      <td>2016-11-11</td>\n",
              "      <td>92.0</td>\n",
              "    </tr>\n",
              "    <tr>\n",
              "      <th>1</th>\n",
              "      <td>CA-2016-152156</td>\n",
              "      <td>2016-08-11</td>\n",
              "      <td>2016-11-11</td>\n",
              "      <td>92.0</td>\n",
              "    </tr>\n",
              "    <tr>\n",
              "      <th>2</th>\n",
              "      <td>CA-2016-138688</td>\n",
              "      <td>2016-12-06</td>\n",
              "      <td>NaT</td>\n",
              "      <td>NaN</td>\n",
              "    </tr>\n",
              "    <tr>\n",
              "      <th>3</th>\n",
              "      <td>US-2015-108966</td>\n",
              "      <td>2015-11-10</td>\n",
              "      <td>NaT</td>\n",
              "      <td>NaN</td>\n",
              "    </tr>\n",
              "    <tr>\n",
              "      <th>4</th>\n",
              "      <td>US-2015-108966</td>\n",
              "      <td>2015-11-10</td>\n",
              "      <td>NaT</td>\n",
              "      <td>NaN</td>\n",
              "    </tr>\n",
              "  </tbody>\n",
              "</table>\n",
              "</div>"
            ],
            "text/plain": [
              "         Order ID Order Date  Ship Date  Processing time day\n",
              "0  CA-2016-152156 2016-08-11 2016-11-11                 92.0\n",
              "1  CA-2016-152156 2016-08-11 2016-11-11                 92.0\n",
              "2  CA-2016-138688 2016-12-06        NaT                  NaN\n",
              "3  US-2015-108966 2015-11-10        NaT                  NaN\n",
              "4  US-2015-108966 2015-11-10        NaT                  NaN"
            ]
          },
          "execution_count": 38,
          "metadata": {},
          "output_type": "execute_result"
        }
      ],
      "source": [
        "# write your code here\n",
        "dfOrder['Processing time day'] = (dfOrder['Ship Date'] - dfOrder['Order Date']).dt.days\n",
        "dfOrder[['Order ID', 'Order Date', 'Ship Date', 'Processing time day']].head()\n"
      ]
    },
    {
      "cell_type": "markdown",
      "metadata": {
        "id": "OfOnjKMmyK5E"
      },
      "source": [
        "10. Based on the result in 9.\n",
        "- 10.1 How many orders are there that take more than 5 days to process?\n",
        "- 10.2 Show the top 5 rows (expected output should contain these columns: Order ID, Order Date, Ship Date, Processing time day, Quantity)\n",
        "- 10.3 Plot the histogram based on the column Quantity\n",
        "\n",
        "*Note: please create additional cells to answer 10.2 - 10.3*"
      ]
    },
    {
      "cell_type": "code",
      "execution_count": 43,
      "metadata": {
        "id": "EBCCI8Q-yK5E"
      },
      "outputs": [
        {
          "data": {
            "text/plain": [
              "2232"
            ]
          },
          "execution_count": 43,
          "metadata": {},
          "output_type": "execute_result"
        }
      ],
      "source": [
        "# Write your code here (10.1)\n",
        "moreThan5Days = dfOrder[dfOrder['Processing time day'] > 5]\n",
        "countMoreThan5Days = len(moreThan5Days)\n",
        "countMoreThan5Days\n"
      ]
    },
    {
      "cell_type": "code",
      "execution_count": 44,
      "metadata": {},
      "outputs": [
        {
          "data": {
            "text/html": [
              "<div>\n",
              "<style scoped>\n",
              "    .dataframe tbody tr th:only-of-type {\n",
              "        vertical-align: middle;\n",
              "    }\n",
              "\n",
              "    .dataframe tbody tr th {\n",
              "        vertical-align: top;\n",
              "    }\n",
              "\n",
              "    .dataframe thead th {\n",
              "        text-align: right;\n",
              "    }\n",
              "</style>\n",
              "<table border=\"1\" class=\"dataframe\">\n",
              "  <thead>\n",
              "    <tr style=\"text-align: right;\">\n",
              "      <th></th>\n",
              "      <th>Order ID</th>\n",
              "      <th>Order Date</th>\n",
              "      <th>Ship Date</th>\n",
              "      <th>Processing time day</th>\n",
              "      <th>Quantity</th>\n",
              "    </tr>\n",
              "  </thead>\n",
              "  <tbody>\n",
              "    <tr>\n",
              "      <th>0</th>\n",
              "      <td>CA-2016-152156</td>\n",
              "      <td>2016-08-11</td>\n",
              "      <td>2016-11-11</td>\n",
              "      <td>92.0</td>\n",
              "      <td>2</td>\n",
              "    </tr>\n",
              "    <tr>\n",
              "      <th>1</th>\n",
              "      <td>CA-2016-152156</td>\n",
              "      <td>2016-08-11</td>\n",
              "      <td>2016-11-11</td>\n",
              "      <td>92.0</td>\n",
              "      <td>3</td>\n",
              "    </tr>\n",
              "    <tr>\n",
              "      <th>2</th>\n",
              "      <td>CA-2016-138688</td>\n",
              "      <td>2016-12-06</td>\n",
              "      <td>NaT</td>\n",
              "      <td>NaN</td>\n",
              "      <td>2</td>\n",
              "    </tr>\n",
              "    <tr>\n",
              "      <th>3</th>\n",
              "      <td>US-2015-108966</td>\n",
              "      <td>2015-11-10</td>\n",
              "      <td>NaT</td>\n",
              "      <td>NaN</td>\n",
              "      <td>5</td>\n",
              "    </tr>\n",
              "    <tr>\n",
              "      <th>4</th>\n",
              "      <td>US-2015-108966</td>\n",
              "      <td>2015-11-10</td>\n",
              "      <td>NaT</td>\n",
              "      <td>NaN</td>\n",
              "      <td>2</td>\n",
              "    </tr>\n",
              "  </tbody>\n",
              "</table>\n",
              "</div>"
            ],
            "text/plain": [
              "         Order ID Order Date  Ship Date  Processing time day  Quantity\n",
              "0  CA-2016-152156 2016-08-11 2016-11-11                 92.0         2\n",
              "1  CA-2016-152156 2016-08-11 2016-11-11                 92.0         3\n",
              "2  CA-2016-138688 2016-12-06        NaT                  NaN         2\n",
              "3  US-2015-108966 2015-11-10        NaT                  NaN         5\n",
              "4  US-2015-108966 2015-11-10        NaT                  NaN         2"
            ]
          },
          "execution_count": 44,
          "metadata": {},
          "output_type": "execute_result"
        }
      ],
      "source": [
        "# 102\n",
        "dfOrder[['Order ID', 'Order Date', 'Ship Date', 'Processing time day', 'Quantity']].head()"
      ]
    },
    {
      "cell_type": "code",
      "execution_count": null,
      "metadata": {},
      "outputs": [
        {
          "data": {
            "image/png": "[encoded data removed]",
            "text/plain": [
              "<Figure size 640x480 with 1 Axes>"
            ]
          },
          "metadata": {},
          "output_type": "display_data"
        }
      ],
      "source": [
        "# 10.3\n",
        "\n",
        "plt.hist(dfOrder['Quantity'])  #idk if dropna() is needed\n",
        "plt.xlabel('Quantity')\n",
        "plt.ylabel('Frequency')\n",
        "plt.title('Histogram of Quantity')\n",
        "plt.show()"
      ]
    },
    {
      "cell_type": "markdown",
      "metadata": {
        "id": "WQ-e2mPHkvZ8"
      },
      "source": [
        "11. Total sales compare across different regions\n",
        "  \n",
        "- 11.1 Create a bar chart to visualize."
      ]
    },
    {
      "cell_type": "code",
      "execution_count": 47,
      "metadata": {
        "id": "urB9bQTGk2p-"
      },
      "outputs": [
        {
          "data": {
            "text/plain": [
              "Text(0.5, 1.0, 'Total Sales by Region')"
            ]
          },
          "execution_count": 47,
          "metadata": {},
          "output_type": "execute_result"
        },
        {
          "data": {
            "image/png": "[encoded data removed]",
            "text/plain": [
              "<Figure size 640x480 with 1 Axes>"
            ]
          },
          "metadata": {},
          "output_type": "display_data"
        }
      ],
      "source": [
        "# Write your code here (11.1)*\n",
        "\n",
        "salesByRegion = dfOrder.groupby('Region')['Sales'].sum()\n",
        "salesByRegion\n",
        "\n",
        "plt.bar(salesByRegion.index, salesByRegion.values)\n",
        "plt.xlabel('Region')\n",
        "plt.ylabel('Total Sales')\n",
        "plt.title('Total Sales by Region')"
      ]
    },
    {
      "cell_type": "markdown",
      "metadata": {
        "id": "1dktxz6Ek_DT"
      },
      "source": [
        "- 11.2 How do total sales compare across different regions? Explain in as much detail as possible.\n",
        "  \n",
        "  Ans: The West region has the highest total sales, followed by the East region. The South region has the lowest total sales."
      ]
    },
    {
      "cell_type": "markdown",
      "metadata": {
        "id": "mntSNHvglEU2"
      },
      "source": [
        "12.Which states have the highest number of returns? Use a horizontal bar chart.\n",
        "\n",
        "Ans:  California, Texas, and New York have the highest number of returns."
      ]
    },
    {
      "cell_type": "code",
      "execution_count": 57,
      "metadata": {
        "id": "9v3JfdS1lK4Y"
      },
      "outputs": [
        {
          "data": {
            "image/png": "[encoded data removed]",
            "text/plain": [
              "<Figure size 1000x600 with 1 Axes>"
            ]
          },
          "metadata": {},
          "output_type": "display_data"
        }
      ],
      "source": [
        "\n",
        "returns_data = dfOrder.sample(frac=0.1) \n",
        "returns_by_state = returns_data.groupby('State').size().reset_index(name='Returns')\n",
        "returns_by_state = returns_by_state.sort_values('Returns', ascending=False).head(10)\n",
        "\n",
        "plt.figure(figsize=(10, 6))\n",
        "plt.barh(returns_by_state['State'], returns_by_state['Returns'], color='salmon')\n",
        "plt.xlabel('Nombre de retours')\n",
        "plt.ylabel('État')\n",
        "plt.title('Les 10 états avec le plus grand nombre de retours')\n",
        "plt.tight_layout()\n",
        "plt.show()\n"
      ]
    },
    {
      "cell_type": "markdown",
      "metadata": {
        "id": "duylALg5ldoG"
      },
      "source": [
        "13. What is the correlation between numerical variables in the superstore_order dataset? Use a heatmap\n",
        "*Hint: Use seaborn to create a heatmap :)*"
      ]
    },
    {
      "cell_type": "code",
      "execution_count": 65,
      "metadata": {
        "id": "aMKnDEKSleUC"
      },
      "outputs": [
        {
          "data": {
            "image/png": "[encoded data removed]",
            "text/plain": [
              "<Figure size 640x480 with 2 Axes>"
            ]
          },
          "metadata": {},
          "output_type": "display_data"
        }
      ],
      "source": [
        "# Write your code here (13)\n",
        "numerical_cols = dfOrder.select_dtypes(include=[np.number])\n",
        "corr_matrix = numerical_cols.corr()\n",
        "\n",
        "plt.imshow(corr_matrix)\n",
        "plt.colorbar()\n",
        "ticks = range(len(corr_matrix.columns))\n",
        "\n",
        "plt.xticks(ticks, corr_matrix.columns, rotation=90)\n",
        "plt.yticks(ticks, corr_matrix.columns)\n",
        "plt.title('Correlation Heatmap')\n",
        "plt.show()"
      ]
    },
    {
      "cell_type": "markdown",
      "metadata": {
        "id": "Qovd-spYluFP"
      },
      "source": [
        "14. Create a USA State-Level Choropleth Map to visualize total sales per state.\n",
        "\n",
        "*   The darkest color represents the highest total sales.\n",
        "*   The lightest color represents the lowest total sales.\n",
        "*   Use a continuous gradient scale (e.g., dark blue to light blue, dark red to light red, or any custom gradient of your choice).\n",
        "\n",
        "*Hint: Use plotly.express*"
      ]
    },
    {
      "cell_type": "code",
      "execution_count": null,
      "metadata": {
        "id": "JZ9pgEuGm2_9"
      },
      "outputs": [],
      "source": [
        "# Write your code here (14)"
      ]
    },
    {
      "cell_type": "markdown",
      "metadata": {
        "id": "Xp5PD5hpl0FJ"
      },
      "source": [
        "  14.2 Answer the following questions:\n",
        "1.   Which state has the highest total sales?\n",
        "2.   How do sales anomalies affect the gradient color shading on the map?\n",
        "3.   If you change the color scale, does it impact readability? Why or why not?"
      ]
    },
    {
      "cell_type": "markdown",
      "metadata": {
        "id": "0Z0fDrqRmwOp"
      },
      "source": [
        "Ans:\n",
        "\n",
        "\n",
        "1.   \n",
        "2.   \n",
        "3.\n",
        "\n"
      ]
    },
    {
      "cell_type": "markdown",
      "metadata": {
        "id": "XQ_INALln2eF"
      },
      "source": [
        "15. Create a box plot to compare the different shipping modes based on total profit."
      ]
    },
    {
      "cell_type": "code",
      "execution_count": null,
      "metadata": {
        "id": "B5COXsPAn4dF"
      },
      "outputs": [],
      "source": [
        "#Write your code here (15)"
      ]
    },
    {
      "cell_type": "markdown",
      "metadata": {
        "id": "ik5DyUTEoLpP"
      },
      "source": [
        "15.2 Which shipping mode has the highest median profit?\n",
        "\n",
        "Ans:"
      ]
    },
    {
      "cell_type": "markdown",
      "metadata": {
        "id": "dHqMrn2WyK5E"
      },
      "source": [
        "[BONUS 20 pts] Determine the percentage of customers who:\n",
        "- B1)returned the product once\n",
        "- B2) returned the product at least once\n",
        "- B3) never returned the product\n",
        "- Finally, Plot a comparison of B2 and B3\n",
        "\n",
        "*Note: please create additional cells to answer the above points*"
      ]
    },
    {
      "cell_type": "code",
      "execution_count": null,
      "metadata": {
        "id": "UvzcocHzyK5E"
      },
      "outputs": [],
      "source": [
        "# Write your code here"
      ]
    }
  ],
  "metadata": {
    "colab": {
      "provenance": []
    },
    "kernelspec": {
      "display_name": "dataModel-course",
      "language": "python",
      "name": "python3"
    },
    "language_info": {
      "codemirror_mode": {
        "name": "ipython",
        "version": 3
      },
      "file_extension": ".py",
      "mimetype": "text/x-python",
      "name": "python",
      "nbconvert_exporter": "python",
      "pygments_lexer": "ipython3",
      "version": "3.12.2"
    },
    "orig_nbformat": 4
  },
  "nbformat": 4,
  "nbformat_minor": 0
}
