{
 "cells": [
  {
   "cell_type": "markdown",
   "metadata": {},
   "source": [
    "# Lab 2: Types of Data\n",
    "\n",
    "#### CPE232 Data Models\n",
    "---"
   ]
  },
  {
   "cell_type": "markdown",
   "metadata": {},
   "source": [
    "## [1] CSV"
   ]
  },
  {
   "cell_type": "code",
   "execution_count": null,
   "metadata": {},
   "outputs": [],
   "source": [
    "import csv"
   ]
  },
  {
   "cell_type": "markdown",
   "metadata": {},
   "source": [
    "### 1.1 Writing new csv file\n",
    "\n",
    "*Note: Remember this example? We've already seen it in the last lab.*"
   ]
  },
  {
   "cell_type": "code",
   "execution_count": null,
   "metadata": {},
   "outputs": [],
   "source": [
    "with open(\"test.csv\",\"w\",newline='') as file:\n",
    "        writer = csv.writer(file)\n",
    "        writer.writerow([\"Name\",\"Surname\"])\n",
    "        writer.writerow([\"Alice\",\"Johnson\"])\n",
    "        writer.writerow([\"Bob\",\"Smith\"])"
   ]
  },
  {
   "cell_type": "markdown",
   "metadata": {},
   "source": [
    "### 1.2 Reading a csv file"
   ]
  },
  {
   "cell_type": "code",
   "execution_count": null,
   "metadata": {},
   "outputs": [],
   "source": [
    "with open(\"test.csv\",\"r\") as file:\n",
    "    reader = csv.reader(file)\n",
    "    for row in reader:\n",
    "        print(row)"
   ]
  },
  {
   "cell_type": "markdown",
   "metadata": {},
   "source": [
    "### 1.3 Use pandas to read csv file"
   ]
  },
  {
   "cell_type": "code",
   "execution_count": null,
   "metadata": {},
   "outputs": [],
   "source": [
    "import pandas as pd\n",
    "\n",
    "df = pd.read_csv('test.csv')\n",
    "\n",
    "df"
   ]
  },
  {
   "cell_type": "markdown",
   "metadata": {},
   "source": [
    "[Q1] Write a Python script that reads the **students.csv** file and prints the content of *the first 10 students* row by row."
   ]
  },
  {
   "cell_type": "code",
   "execution_count": null,
   "metadata": {},
   "outputs": [],
   "source": [
    "# Write your code here"
   ]
  },
  {
   "cell_type": "markdown",
   "metadata": {},
   "source": [
    "[Q2] Load the **students.csv** file into a pandas DataFrame. Use pandas to filter the DataFrame and create a new DataFrame containing only students who received an \"A\" grade. Print the new DataFrame."
   ]
  },
  {
   "cell_type": "code",
   "execution_count": null,
   "metadata": {},
   "outputs": [],
   "source": [
    "# Write your code here"
   ]
  },
  {
   "cell_type": "markdown",
   "metadata": {},
   "source": [
    "[Q3] Add a new column to the DataFrame called \"Passed\" where the value is True if the grade is \"A\", and False otherwise. Print the updated DataFrame."
   ]
  },
  {
   "cell_type": "code",
   "execution_count": null,
   "metadata": {},
   "outputs": [],
   "source": [
    "# Write your code here"
   ]
  },
  {
   "cell_type": "markdown",
   "metadata": {},
   "source": [
    "[Q4] Calculate the average age of the students in the DataFrame."
   ]
  },
  {
   "cell_type": "code",
   "execution_count": null,
   "metadata": {},
   "outputs": [],
   "source": [
    "# Write your code here"
   ]
  },
  {
   "cell_type": "markdown",
   "metadata": {},
   "source": [
    "[Q5] Calculate the average GPAX of **ALL** students in the DataFrame, where A=4, B=3, C=2, and D=1."
   ]
  },
  {
   "cell_type": "code",
   "execution_count": null,
   "metadata": {},
   "outputs": [],
   "source": [
    "# Write your code here"
   ]
  },
  {
   "cell_type": "markdown",
   "metadata": {},
   "source": [
    "## [2] HTML"
   ]
  },
  {
   "cell_type": "markdown",
   "metadata": {},
   "source": [
    "### 2.1 Different tags in HTML\n",
    "\n",
    "**Basic Structure Tags:**\n",
    "- `<!DOCTYPE html>`: Declares the document type and version of HTML.\n",
    "- `<html>`: Root element of the HTML document.\n",
    "- `<head>`: Contains meta-information like the title, character set, and links to external resources (CSS, scripts).\n",
    "- `<title>`: Specifies the title of the webpage, visible in the browser tab.\n",
    "- `<body>`: Contains the visible content of the page.\n",
    "\n",
    "**Text Formatting Tags:**\n",
    "- `<h1>` - `<h6>`: Header tags (h1 is the largest, h6 is the smallest).\n",
    "- `<p>`: Paragraph tag, used to group text into paragraphs.\n",
    "- `<blockquote>`: Defines a block of text that is a quotation from another source.\n",
    "- `<code>`: Represents inline code.\n",
    "\n",
    "**Lists and Links:**\n",
    "- `<ul>`: Unordered list (bulleted).\n",
    "- `<ol>`: Ordered list (numbered).\n",
    "- `<li>`: List item, used inside `<ul>` or `<ol>`.\n",
    "- `<a>`: Anchor tag, used to create hyperlinks.\n",
    "- `<img>`: Image tag, used to embed images.\n",
    "\n",
    "**Tables:**\n",
    "- `<table>`: Defines a table.\n",
    "- `<tr>`: Table row.\n",
    "- `<th>`: Table header, defines header cells.\n",
    "- `<td>`: Table data, defines standard cells.\n",
    "\n",
    "and more..."
   ]
  },
  {
   "cell_type": "code",
   "execution_count": 3,
   "metadata": {},
   "outputs": [],
   "source": [
    "from bs4 import BeautifulSoup"
   ]
  },
  {
   "cell_type": "markdown",
   "metadata": {},
   "source": [
    "### 2.2 Writing new HTML file"
   ]
  },
  {
   "cell_type": "code",
   "execution_count": 4,
   "metadata": {},
   "outputs": [],
   "source": [
    "html_temp = \"\"\"\n",
    "<!DOCTYPE html>\n",
    "<html>\n",
    "<head>\n",
    "    <title>Sample Blog</title>\n",
    "</head>\n",
    "<body>\n",
    "    <h2 class=\"article-title\">Article 1: Introduction to Web Scraping</h2>\n",
    "    <p class=\"article-content\">This is an introduction to web scraping using BeautifulSoup.</p>\n",
    "    <h2 class=\"article-title\">Article 2: Advanced Web Scraping Techniques</h2>\n",
    "    <p class=\"article-content\">Learn advanced techniques for web scraping with Python.</p>\n",
    "</body>\n",
    "</html>\n",
    "\"\"\"\n",
    "\n",
    "with open('html_file.html', 'w') as file:\n",
    "    file.write(html_temp)\n"
   ]
  },
  {
   "cell_type": "markdown",
   "metadata": {},
   "source": [
    "### 2.3 Reading HTML file"
   ]
  },
  {
   "cell_type": "code",
   "execution_count": null,
   "metadata": {},
   "outputs": [],
   "source": [
    "with open('html_file.html') as html_file:\n",
    "    html_content = html_file.read()\n",
    "\n",
    "# Parse the HTML content\n",
    "soup = BeautifulSoup(html_content, 'html.parser')\n",
    "\n",
    "print(soup.title.text)\n",
    "print(soup.h2)\n",
    "print(soup.table.text)\n"
   ]
  },
  {
   "cell_type": "markdown",
   "metadata": {},
   "source": [
    "[Q6] Explain why the code above gives an error? Fix the code so that it runs without error.\n",
    "\n",
    "Ans: "
   ]
  },
  {
   "cell_type": "code",
   "execution_count": null,
   "metadata": {},
   "outputs": [],
   "source": [
    "# Write your code here"
   ]
  },
  {
   "cell_type": "markdown",
   "metadata": {},
   "source": [
    "[Q7] You are provided an HTML file named **students.html**. Write a Python script that extracts all the data from the table (headers and rows) and prints them row by row."
   ]
  },
  {
   "cell_type": "code",
   "execution_count": null,
   "metadata": {},
   "outputs": [],
   "source": [
    "# Write your code here"
   ]
  },
  {
   "cell_type": "markdown",
   "metadata": {},
   "source": [
    "[Q8] Modify the script to extract and print only the names of students who received a grade of \"A\"."
   ]
  },
  {
   "cell_type": "code",
   "execution_count": null,
   "metadata": {},
   "outputs": [],
   "source": [
    "# Write your code here"
   ]
  },
  {
   "cell_type": "markdown",
   "metadata": {},
   "source": [
    "## [3] XML"
   ]
  },
  {
   "cell_type": "code",
   "execution_count": null,
   "metadata": {},
   "outputs": [],
   "source": [
    "import xml.etree.ElementTree as ET"
   ]
  },
  {
   "cell_type": "markdown",
   "metadata": {},
   "source": [
    "### 3.1 Writing new xml file"
   ]
  },
  {
   "cell_type": "code",
   "execution_count": null,
   "metadata": {},
   "outputs": [],
   "source": [
    "root = ET.Element(\"data\")\n",
    "student = ET.SubElement(root, \"student\", name = \"Alice\")\n",
    "\n",
    "email = ET.SubElement(student, 'email')\n",
    "email.text = \"alice@mail.com\"\n",
    "\n",
    "age = ET.SubElement(student, 'age')\n",
    "age.text = \"21\"\n",
    "\n",
    "gender = ET.SubElement(student, 'gender')\n",
    "gender.text = \"F\"\n",
    "\n",
    "tree = ET.ElementTree(root)\n",
    "tree.write(\"xml_file.xml\")"
   ]
  },
  {
   "cell_type": "markdown",
   "metadata": {},
   "source": [
    "### 3.2 Modifying existing xml file"
   ]
  },
  {
   "cell_type": "code",
   "execution_count": null,
   "metadata": {},
   "outputs": [],
   "source": [
    "tree = ET.parse('xml_file.xml')\n",
    "root = tree.getroot()\n",
    "\n",
    "for student in root:\n",
    "    for element in student:\n",
    "        if element.tag == \"age\":\n",
    "            element.text = \"22\"\n",
    "\n",
    "tree.write('xml_file.xml')"
   ]
  },
  {
   "cell_type": "markdown",
   "metadata": {},
   "source": [
    "### 3.3 Reading XML file"
   ]
  },
  {
   "cell_type": "code",
   "execution_count": null,
   "metadata": {},
   "outputs": [],
   "source": [
    "tree = ET.parse('xml_file.xml')\n",
    "root = tree.getroot()\n",
    "\n",
    "for student in root:\n",
    "    print(f'name: {student.attrib[\"name\"]}')\n",
    "    for element in student:\n",
    "        print(f'{element.tag}: {element.text}')\n",
    "\n",
    "# Print the entire XML content\n",
    "xml_content = ET.tostring(root, encoding='utf-8').decode('utf-8')\n",
    "print(xml_content)"
   ]
  },
  {
   "cell_type": "markdown",
   "metadata": {},
   "source": [
    "### 3.4 Convert XML to List of Dictionary"
   ]
  },
  {
   "cell_type": "code",
   "execution_count": null,
   "metadata": {},
   "outputs": [],
   "source": [
    "data_list = []\n",
    "for line in root:\n",
    "    name = line.attrib.get('name')\n",
    "    email = line.find('email').text\n",
    "    age = line.find('age').text\n",
    "    gender = line.find('gender').text\n",
    "\n",
    "    data_list.append({\"Name\":name, \"Email\":email, \"Age\":age, \"Gender\":gender})\n",
    "    \n",
    "print(data_list)"
   ]
  },
  {
   "cell_type": "markdown",
   "metadata": {},
   "source": [
    "[Q9] Add your own data including Name, Email, Age and Gender to the XML file and put it in the existing data_list.\n",
    "\n",
    "*Note: You should show the data_list and XML file by reading the file.*"
   ]
  },
  {
   "cell_type": "code",
   "execution_count": null,
   "metadata": {},
   "outputs": [],
   "source": [
    "#Write you own code here"
   ]
  },
  {
   "cell_type": "markdown",
   "metadata": {},
   "source": [
    "## [4] JSON"
   ]
  },
  {
   "cell_type": "code",
   "execution_count": null,
   "metadata": {},
   "outputs": [],
   "source": [
    "import json"
   ]
  },
  {
   "cell_type": "markdown",
   "metadata": {},
   "source": [
    "### 4.1 Writing new json file"
   ]
  },
  {
   "cell_type": "code",
   "execution_count": null,
   "metadata": {},
   "outputs": [],
   "source": [
    "# Data to be written to the JSON file\n",
    "data_to_write = {\n",
    "    \"people\": [\n",
    "        {\"name\": \"Alice\", \"age\": 30, \"city\": \"New York\"},\n",
    "        {\"name\": \"Bob\", \"age\": 25, \"city\": \"San Francisco\"},\n",
    "        {\"name\": \"Charlie\", \"age\": 35, \"city\": \"Los Angeles\"}\n",
    "    ]\n",
    "}\n",
    "\n",
    "# Open the file in write mode and write the data\n",
    "with open('json_file', 'w') as json_file:\n",
    "    json.dump(data_to_write, json_file, indent=2)\n"
   ]
  },
  {
   "cell_type": "markdown",
   "metadata": {},
   "source": [
    "### 4.2 Reading json file"
   ]
  },
  {
   "cell_type": "code",
   "execution_count": null,
   "metadata": {},
   "outputs": [],
   "source": [
    "with open('json_file', 'r') as file:\n",
    "    # Load JSON data\n",
    "    data = json.load(file)\n",
    "    \n",
    "print(data)\n",
    "\n",
    "people = data['people']\n",
    "\n",
    "# Print information about each person\n",
    "for person in people:\n",
    "    print(f\"Name: {person['name']}, Age: {person['age']}, City: {person['city']}\")\n"
   ]
  },
  {
   "cell_type": "markdown",
   "metadata": {},
   "source": [
    "[Q10] write a code to modify the existing json file so each person have a \"job\" data and print the result\n",
    "\n",
    "Ans: "
   ]
  },
  {
   "cell_type": "code",
   "execution_count": null,
   "metadata": {},
   "outputs": [],
   "source": [
    "#write your own code here"
   ]
  }
 ],
 "metadata": {
  "kernelspec": {
   "display_name": "Python 3.11.1 64-bit",
   "language": "python",
   "name": "python3"
  },
  "language_info": {
   "codemirror_mode": {
    "name": "ipython",
    "version": 3
   },
   "file_extension": ".py",
   "mimetype": "text/x-python",
   "name": "python",
   "nbconvert_exporter": "python",
   "pygments_lexer": "ipython3",
   "version": "3.11.1"
  },
  "orig_nbformat": 4,
  "vscode": {
   "interpreter": {
    "hash": "1a1af0ee75eeea9e2e1ee996c87e7a2b11a0bebd85af04bb136d915cefc0abce"
   }
  }
 },
 "nbformat": 4,
 "nbformat_minor": 2
}
